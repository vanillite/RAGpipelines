{
  "cells": [
    {
      "cell_type": "markdown",
      "source": [
        "## Evaluation pipeline"
      ],
      "metadata": {
        "nteract": {
          "transient": {
            "deleting": false
          }
        }
      }
    },
    {
      "cell_type": "markdown",
      "source": [
        "Load dataset with queries and answers, and the resulting dataset from inference pipeline.\n",
        "\n",
        "Run all to compute ROUGE and RAGAs evaluation metrics with summarized tables."
      ],
      "metadata": {
        "nteract": {
          "transient": {
            "deleting": false
          }
        }
      }
    },
    {
      "cell_type": "code",
      "source": [
        "import pandas as pd\n",
        "import seaborn as sns\n",
        "import os\n",
        "\n",
        "#Load dataset with queries and ground truth answers\n",
        "df_vragen = pd.read_excel('Vragen HAFIR.xlsx')\n",
        "\n",
        "#Load dataset from inference pipeline result\n",
        "df_llm_response = pd.read_pickle(\"full_dataframe_pickle\")"
      ],
      "outputs": [],
      "execution_count": 2,
      "metadata": {
        "gather": {
          "logged": 1752509972308
        }
      }
    },
    {
      "cell_type": "code",
      "source": [
        "#Add query and answer column into inference dataset\n",
        "df_vragen = df_vragen.rename(columns={\"Vraag\": \"query\"})\n",
        "df_merged = pd.merge(df_llm_response, df_vragen[[\"query\",\"Antwoord\"]], on='query', how='left')\n"
      ],
      "outputs": [],
      "execution_count": null,
      "metadata": {
        "gather": {
          "logged": 1752509972829
        }
      }
    },
    {
      "cell_type": "markdown",
      "source": [
        "### ROUGE evaluation"
      ],
      "metadata": {
        "nteract": {
          "transient": {
            "deleting": false
          }
        }
      }
    },
    {
      "cell_type": "code",
      "source": [
        "#Remap column names\n",
        "\n",
        "df = df_merged\n",
        "#Define mappings for column renaming\n",
        "embedding_model_map = {\n",
        "    \"custom-vectorizer-384\": \"multilingual-e5-small\",\n",
        "    \"openai-vectorizer-text-embedding-3-large\": \"text-embedding-3-large\",\n",
        "    \"openai-vectorizer-text-embedding-ada-002\": \"text-embedding-ada-002\"\n",
        "}\n",
        "\n",
        "search_algorithm_map = {\n",
        "    \"exhaustiveknn\": \"KNN\",\n",
        "    \"hnsw\": \"HNSW\"\n",
        "}\n",
        "\n",
        "#Create new columns for clarity of the techniques\n",
        "df['embedding_model'] = df['idx_name'].apply(\n",
        "    lambda x: next((val for key, val in embedding_model_map.items() if key in x), None)\n",
        ")\n",
        "df['search_algorithm'] = df['idx_name'].apply(\n",
        "    lambda x: next((val for key, val in search_algorithm_map.items() if key in x), None)\n",
        ")\n",
        "df['agentic_retrieval'] = df['method_name'].apply(\n",
        "    lambda x: \"Agentic\" in x\n",
        ")\n",
        "df['reranking'] = df['method_name'].apply(\n",
        "    lambda x: \"with reranking\" in x\n",
        ")\n",
        "\n",
        "df_merged_rouge = df[['deployment_name',\n",
        "                           'embedding_model',\n",
        "                           'search_algorithm',\n",
        "                           'agentic_retrieval',\n",
        "                           'reranking',\n",
        "                           'query',\n",
        "                           'iteration',\n",
        "                           'response',\n",
        "                           'Antwoord']]"
      ],
      "outputs": [],
      "execution_count": 6,
      "metadata": {
        "gather": {
          "logged": 1752510036543
        }
      }
    },
    {
      "cell_type": "code",
      "source": [
        "from rouge_score import rouge_scorer\n",
        "\n",
        "scorer = rouge_scorer.RougeScorer(['rouge1', 'rougeL'], use_stemmer=True)\n",
        "\n",
        "def rouge_scorer_wrapper(a,b):\n",
        "    result = scorer.score(a,b)\n",
        "    rouge1 = result[\"rouge1\"]\n",
        "    rougeL = result[\"rougeL\"]\n",
        "    return rouge1.precision, rouge1.recall, rouge1.fmeasure, rougeL.precision, rougeL.recall, rougeL.fmeasure\n",
        "\n",
        "#Appends ROUGE metric calculations to dataset\n",
        "df_merged_rouge[['rouge1_precision', 'rouge1_recall', 'rouge1_fmeasure', \n",
        "           'rougeL_precision', 'rougeL_recall', 'rougeL_fmeasure']] = df_merged_rouge.apply(\n",
        "    lambda x: pd.Series(rouge_scorer_wrapper(x.Antwoord, x.response)), \n",
        "    axis=1\n",
        ")"
      ],
      "outputs": [],
      "execution_count": null,
      "metadata": {
        "gather": {
          "logged": 1752510094015
        }
      }
    },
    {
      "cell_type": "markdown",
      "source": [
        "### RAGAs evaluation"
      ],
      "metadata": {
        "nteract": {
          "transient": {
            "deleting": false
          }
        }
      }
    },
    {
      "cell_type": "code",
      "source": [
        "from ragas import SingleTurnSample \n",
        "from ragas.metrics import ResponseRelevancy\n",
        "from ragas.dataset_schema import SingleTurnSample \n",
        "from ragas.metrics import Faithfulness\n",
        "from ragas import SingleTurnSample\n",
        "from ragas.metrics import LLMContextPrecisionWithReference\n",
        "from ragas.dataset_schema import SingleTurnSample\n",
        "from ragas.metrics import LLMContextRecall\n",
        "from ragas.embeddings import LangchainEmbeddingsWrapper\n",
        "import asyncio\n",
        "import os\n",
        "from ragas.metrics import (\n",
        "    faithfulness,\n",
        "    answer_relevancy,\n",
        "    context_precision,\n",
        "    context_recall,\n",
        ")"
      ],
      "outputs": [],
      "execution_count": null,
      "metadata": {}
    },
    {
      "cell_type": "code",
      "source": [
        "import json\n",
        "from azure.core.credentials import AzureKeyCredential\n",
        "from azure.identity import DefaultAzureCredential\n",
        "from azure.identity import get_bearer_token_provider\n",
        "from openai import AzureOpenAI\n",
        "from langchain.chat_models import AzureChatOpenAI\n",
        "from langchain.embeddings import AzureOpenAIEmbeddings\n",
        "\n",
        "with open(\"config.json\", \"r\") as f:\n",
        "    config = json.load(f)\n",
        "\n",
        "#Set connection to an LLM\n",
        "AZURE_OPENAI_API_KEY = config[\"AZURE_OPENAI_API_KEY\"]\n",
        "AZURE_OPENAI_ENDPOINT = config[\"AZURE_OPENAI_ENDPOINT\"]\n",
        "\n",
        "llm = AzureChatOpenAI(\n",
        "    deployment_name=\"gpt-4o\",  \n",
        "    azure_endpoint=AZURE_OPENAI_ENDPOINT, \n",
        "    openai_api_key=AZURE_OPENAI_API_KEY, \n",
        "    openai_api_version=\"2024-12-01-preview\"\n",
        ")"
      ],
      "outputs": [],
      "execution_count": null,
      "metadata": {}
    },
    {
      "cell_type": "code",
      "source": [
        "#Create RAGAs scorers\n",
        "from ragas import evaluate\n",
        "from ragas.llms import LangchainLLMWrapper\n",
        "\n",
        "evaluator_llm = LangchainLLMWrapper(llm)\n",
        "scorer_faith = Faithfulness(llm=evaluator_llm)\n",
        "scorer_context_recall = LLMContextRecall(llm=evaluator_llm)\n",
        "scorer_context_precision = LLMContextPrecisionWithReference(llm=evaluator_llm)\n"
      ],
      "outputs": [],
      "execution_count": null,
      "metadata": {}
    },
    {
      "cell_type": "code",
      "source": [
        "#List RAGAs scorers to use for each metric\n",
        "scorers = [scorer_faith, scorer_context_recall, scorer_context_precision]\n",
        "BATCH_SIZE = 10\n",
        "SAVE_DIR = \"batches\"\n",
        "CONCURRENCY_LIMIT = 10\n",
        "\n",
        "async def ragas_evaluate_wrapper(user_input, response, reference, retrieved_contexts):\n",
        "    '''\n",
        "    Async wrapper for evaluation of a single row\n",
        "    '''\n",
        "    sample = SingleTurnSample(\n",
        "        user_input=user_input,\n",
        "        response=response,\n",
        "        reference=reference,\n",
        "        retrieved_contexts=retrieved_contexts,\n",
        "    )\n",
        "    scores = []\n",
        "    for scorer in scorers:\n",
        "        try:\n",
        "            result = await scorer.single_turn_ascore(sample)\n",
        "            scores.append(result)\n",
        "        except Exception as e:\n",
        "            print(f\"Error with scorer {scorer.name}: {e}\")\n",
        "            scores.append(None)\n",
        "    return scores\n",
        "\n",
        "async def process_batch(batch_df, batch_index):\n",
        "    '''\n",
        "    Processes and saves data in batches of pickle files\n",
        "    '''\n",
        "    print(f\"Processing batch {batch_index}\")\n",
        "    \n",
        "    tasks = []\n",
        "    for _, row in batch_df.iterrows():\n",
        "        #Call the evaluate function for each row\n",
        "\n",
        "        scores = ragas_evaluate_wrapper(\n",
        "            user_input=row.query,\n",
        "            response=row.response,\n",
        "            reference=row.reference,\n",
        "            retrieved_contexts=row.retrieved_contexts,\n",
        "        )\n",
        "\n",
        "        tasks.append(scores)\n",
        "    results = await asyncio.gather(*tasks)\n",
        "    batch_df[\"faithfulness\"] = [r[0] for r in results]\n",
        "    batch_df[\"context_recall\"] = [r[1] for r in results]\n",
        "    batch_df[\"context_precision\"] = [r[2] for r in results] \n",
        "    \n",
        "\n",
        "    os.makedirs(SAVE_DIR, exist_ok=True)\n",
        "    batch_path = os.path.join(SAVE_DIR, f\"batch_{batch_index}.pkl\")\n",
        "    batch_df.to_pickle(batch_path)\n",
        "    print(f\"Saved batch {batch_index} to {batch_path}\")\n",
        "\n",
        "    return batch_df\n",
        "\n",
        "async def limited_process_batch(semaphore, batch_df, batch_index):\n",
        "    '''\n",
        "    Counter to limit amount of API calls and concurrent runs\n",
        "    '''\n",
        "    async with semaphore:\n",
        "        await process_batch(batch_df, batch_index)\n",
        "\n",
        "async def evaluate_dataframe(df):\n",
        "    '''\n",
        "    Runs evaluation process and saves data in batches\n",
        "    '''\n",
        "    semaphore = asyncio.Semaphore(CONCURRENCY_LIMIT)\n",
        "    tasks = []\n",
        "    \n",
        "    total_rows = len(df)\n",
        "    num_batches = (total_rows + BATCH_SIZE - 1) // BATCH_SIZE\n",
        "    \n",
        "    for i in range(num_batches):\n",
        "        start = i * BATCH_SIZE\n",
        "        end = min(start + BATCH_SIZE, total_rows)\n",
        "\n",
        "        #Skip already processed batch\n",
        "        batch_path = os.path.join(SAVE_DIR, f\"batch_{i}.pkl\")\n",
        "        if os.path.exists(batch_path):\n",
        "            print(f\"Batch {i} already exists. Skipping.\")\n",
        "            continue\n",
        "\n",
        "        batch_df = df.iloc[start:end].copy()\n",
        "        tasks.append(limited_process_batch(semaphore, batch_df, i))\n",
        "    await asyncio.gather(*tasks)\n",
        "\n",
        "\n",
        "#Rename columns in case they are not matching\n",
        "df_merged.rename(\n",
        "    columns={\"Antwoord\": \"reference\", \"results\": \"retrieved_contexts\"}, inplace=True\n",
        ")\n",
        "\n",
        "asyncio.run(evaluate_dataframe(df_merged.copy()))"
      ],
      "outputs": [],
      "execution_count": null,
      "metadata": {}
    },
    {
      "cell_type": "code",
      "source": [
        "from os import listdir\n",
        "from os.path import isfile, join\n",
        "\n",
        "#Loads batches to form one dataframe\n",
        "files = [join(\"batches\", f) for f in listdir(\"batches\") if (isfile(join(\"batches\", f)) and \".pkl\" in f)]\n",
        "df_ragas_evaluation = pd.concat((pd.read_pickle(file) for file in files))"
      ],
      "outputs": [],
      "execution_count": null,
      "metadata": {}
    },
    {
      "cell_type": "markdown",
      "source": [
        "### Compute grouped scores"
      ],
      "metadata": {
        "nteract": {
          "transient": {
            "deleting": false
          }
        }
      }
    },
    {
      "cell_type": "code",
      "source": [
        "#ROUGE scores grouped by query\n",
        "df_grouped_query = df_merged_rouge[[\"query\", 'rouge1_fmeasure', 'rouge1_precision', 'rouge1_recall',  \n",
        "                                    'rougeL_fmeasure', 'rougeL_precision', 'rougeL_recall']].groupby(\"query\").mean().reset_index()\n",
        "\n",
        "to_merge = df_grouped_query.merge(df_vragen[['query', 'Vraag Nr.']], on='query', how='left')\n",
        "#Replace query content by query number\n",
        "df_grouped_query['query'] = to_merge['Vraag Nr.']\n",
        "df_grouped_query.sort_values(by='rouge1_fmeasure', inplace=True, ascending=False)\n",
        "\n",
        "df_grouped_query.style.background_gradient(\n",
        "    subset= ['rouge1_fmeasure', 'rouge1_precision', 'rouge1_recall', 'rougeL_fmeasure', 'rougeL_precision', 'rougeL_recall'],\n",
        "    cmap=sns.color_palette(\"crest_r\", as_cmap=True)\n",
        ")\n"
      ],
      "outputs": [
        {
          "output_type": "execute_result",
          "execution_count": 189,
          "data": {
            "text/plain": "<pandas.io.formats.style.Styler at 0x73744d9cea70>",
            "text/html": "<style type=\"text/css\">\n#T_1ee8f_row0_col1, #T_1ee8f_row0_col2, #T_1ee8f_row1_col4, #T_1ee8f_row1_col5, #T_1ee8f_row15_col3, #T_1ee8f_row15_col4, #T_1ee8f_row15_col6 {\n  background-color: #a5cd90;\n  color: #000000;\n}\n#T_1ee8f_row0_col3, #T_1ee8f_row4_col6, #T_1ee8f_row7_col2, #T_1ee8f_row11_col1 {\n  background-color: #1f5a85;\n  color: #f1f1f1;\n}\n#T_1ee8f_row0_col4 {\n  background-color: #86be91;\n  color: #000000;\n}\n#T_1ee8f_row0_col5 {\n  background-color: #7eba91;\n  color: #000000;\n}\n#T_1ee8f_row0_col6 {\n  background-color: #2a3d77;\n  color: #f1f1f1;\n}\n#T_1ee8f_row1_col1 {\n  background-color: #74b690;\n  color: #f1f1f1;\n}\n#T_1ee8f_row1_col2 {\n  background-color: #94c591;\n  color: #000000;\n}\n#T_1ee8f_row1_col3, #T_1ee8f_row5_col6 {\n  background-color: #235082;\n  color: #f1f1f1;\n}\n#T_1ee8f_row1_col6, #T_1ee8f_row12_col6 {\n  background-color: #294079;\n  color: #f1f1f1;\n}\n#T_1ee8f_row2_col1 {\n  background-color: #59a590;\n  color: #f1f1f1;\n}\n#T_1ee8f_row2_col2 {\n  background-color: #31828d;\n  color: #f1f1f1;\n}\n#T_1ee8f_row2_col3 {\n  background-color: #20728b;\n  color: #f1f1f1;\n}\n#T_1ee8f_row2_col4 {\n  background-color: #2d7f8c;\n  color: #f1f1f1;\n}\n#T_1ee8f_row2_col5, #T_1ee8f_row7_col6 {\n  background-color: #1c6789;\n  color: #f1f1f1;\n}\n#T_1ee8f_row2_col6 {\n  background-color: #27467c;\n  color: #f1f1f1;\n}\n#T_1ee8f_row3_col1 {\n  background-color: #58a590;\n  color: #f1f1f1;\n}\n#T_1ee8f_row3_col2 {\n  background-color: #25778c;\n  color: #f1f1f1;\n}\n#T_1ee8f_row3_col3, #T_1ee8f_row3_col5, #T_1ee8f_row13_col6 {\n  background-color: #26788c;\n  color: #f1f1f1;\n}\n#T_1ee8f_row3_col4 {\n  background-color: #89bf91;\n  color: #000000;\n}\n#T_1ee8f_row3_col6, #T_1ee8f_row12_col5, #T_1ee8f_row21_col2 {\n  background-color: #1f5985;\n  color: #f1f1f1;\n}\n#T_1ee8f_row4_col1 {\n  background-color: #4e9d90;\n  color: #f1f1f1;\n}\n#T_1ee8f_row4_col2 {\n  background-color: #1c6989;\n  color: #f1f1f1;\n}\n#T_1ee8f_row4_col3 {\n  background-color: #35878d;\n  color: #f1f1f1;\n}\n#T_1ee8f_row4_col4, #T_1ee8f_row6_col1 {\n  background-color: #4a9a8f;\n  color: #f1f1f1;\n}\n#T_1ee8f_row4_col5, #T_1ee8f_row8_col3 {\n  background-color: #1e5d86;\n  color: #f1f1f1;\n}\n#T_1ee8f_row5_col1 {\n  background-color: #4b9b90;\n  color: #f1f1f1;\n}\n#T_1ee8f_row5_col2 {\n  background-color: #287a8c;\n  color: #f1f1f1;\n}\n#T_1ee8f_row5_col3, #T_1ee8f_row21_col5 {\n  background-color: #1c6889;\n  color: #f1f1f1;\n}\n#T_1ee8f_row5_col4 {\n  background-color: #84bd91;\n  color: #000000;\n}\n#T_1ee8f_row5_col5, #T_1ee8f_row8_col1 {\n  background-color: #2f818d;\n  color: #f1f1f1;\n}\n#T_1ee8f_row6_col2, #T_1ee8f_row9_col1 {\n  background-color: #22748b;\n  color: #f1f1f1;\n}\n#T_1ee8f_row6_col3 {\n  background-color: #1f708b;\n  color: #f1f1f1;\n}\n#T_1ee8f_row6_col4 {\n  background-color: #37888d;\n  color: #f1f1f1;\n}\n#T_1ee8f_row6_col5 {\n  background-color: #1d6388;\n  color: #f1f1f1;\n}\n#T_1ee8f_row6_col6, #T_1ee8f_row8_col6, #T_1ee8f_row16_col1, #T_1ee8f_row18_col6, #T_1ee8f_row19_col5 {\n  background-color: #26497e;\n  color: #f1f1f1;\n}\n#T_1ee8f_row7_col1 {\n  background-color: #33848d;\n  color: #f1f1f1;\n}\n#T_1ee8f_row7_col3 {\n  background-color: #2e808d;\n  color: #f1f1f1;\n}\n#T_1ee8f_row7_col4 {\n  background-color: #75b690;\n  color: #f1f1f1;\n}\n#T_1ee8f_row7_col5, #T_1ee8f_row14_col6 {\n  background-color: #1c6488;\n  color: #f1f1f1;\n}\n#T_1ee8f_row8_col2 {\n  background-color: #21738b;\n  color: #f1f1f1;\n}\n#T_1ee8f_row8_col4 {\n  background-color: #41918f;\n  color: #f1f1f1;\n}\n#T_1ee8f_row8_col5 {\n  background-color: #23758b;\n  color: #f1f1f1;\n}\n#T_1ee8f_row9_col2, #T_1ee8f_row14_col1 {\n  background-color: #225282;\n  color: #f1f1f1;\n}\n#T_1ee8f_row9_col3 {\n  background-color: #37888e;\n  color: #f1f1f1;\n}\n#T_1ee8f_row9_col4 {\n  background-color: #35868d;\n  color: #f1f1f1;\n}\n#T_1ee8f_row9_col5 {\n  background-color: #225182;\n  color: #f1f1f1;\n}\n#T_1ee8f_row9_col6 {\n  background-color: #1c6689;\n  color: #f1f1f1;\n}\n#T_1ee8f_row10_col1 {\n  background-color: #1e6d8a;\n  color: #f1f1f1;\n}\n#T_1ee8f_row10_col2 {\n  background-color: #1e5b86;\n  color: #f1f1f1;\n}\n#T_1ee8f_row10_col3, #T_1ee8f_row12_col2 {\n  background-color: #1d5f87;\n  color: #f1f1f1;\n}\n#T_1ee8f_row10_col4, #T_1ee8f_row10_col5 {\n  background-color: #28457c;\n  color: #f1f1f1;\n}\n#T_1ee8f_row10_col6 {\n  background-color: #2a3e78;\n  color: #f1f1f1;\n}\n#T_1ee8f_row11_col2 {\n  background-color: #29427a;\n  color: #f1f1f1;\n}\n#T_1ee8f_row11_col3, #T_1ee8f_row13_col4 {\n  background-color: #3a8b8e;\n  color: #f1f1f1;\n}\n#T_1ee8f_row11_col4 {\n  background-color: #287b8c;\n  color: #f1f1f1;\n}\n#T_1ee8f_row11_col5, #T_1ee8f_row16_col2, #T_1ee8f_row17_col1 {\n  background-color: #27477d;\n  color: #f1f1f1;\n}\n#T_1ee8f_row11_col6 {\n  background-color: #20718b;\n  color: #f1f1f1;\n}\n#T_1ee8f_row12_col1, #T_1ee8f_row17_col6, #T_1ee8f_row18_col3 {\n  background-color: #215483;\n  color: #f1f1f1;\n}\n#T_1ee8f_row12_col3 {\n  background-color: #235081;\n  color: #f1f1f1;\n}\n#T_1ee8f_row12_col4, #T_1ee8f_row18_col2 {\n  background-color: #254b7f;\n  color: #f1f1f1;\n}\n#T_1ee8f_row13_col1, #T_1ee8f_row18_col5 {\n  background-color: #225283;\n  color: #f1f1f1;\n}\n#T_1ee8f_row13_col2 {\n  background-color: #2a3c77;\n  color: #f1f1f1;\n}\n#T_1ee8f_row13_col3 {\n  background-color: #3d8e8e;\n  color: #f1f1f1;\n}\n#T_1ee8f_row13_col5, #T_1ee8f_row19_col2 {\n  background-color: #254a7f;\n  color: #f1f1f1;\n}\n#T_1ee8f_row14_col2, #T_1ee8f_row17_col2, #T_1ee8f_row19_col1, #T_1ee8f_row19_col6, #T_1ee8f_row20_col1 {\n  background-color: #2b3875;\n  color: #f1f1f1;\n}\n#T_1ee8f_row14_col3 {\n  background-color: #388a8e;\n  color: #f1f1f1;\n}\n#T_1ee8f_row14_col4, #T_1ee8f_row15_col5 {\n  background-color: #225383;\n  color: #f1f1f1;\n}\n#T_1ee8f_row14_col5, #T_1ee8f_row15_col2, #T_1ee8f_row19_col4, #T_1ee8f_row21_col1, #T_1ee8f_row21_col3, #T_1ee8f_row21_col4, #T_1ee8f_row21_col6 {\n  background-color: #2c3172;\n  color: #f1f1f1;\n}\n#T_1ee8f_row15_col1 {\n  background-color: #244e80;\n  color: #f1f1f1;\n}\n#T_1ee8f_row16_col3 {\n  background-color: #1f5b86;\n  color: #f1f1f1;\n}\n#T_1ee8f_row16_col4 {\n  background-color: #1f6f8a;\n  color: #f1f1f1;\n}\n#T_1ee8f_row16_col5, #T_1ee8f_row18_col4 {\n  background-color: #205684;\n  color: #f1f1f1;\n}\n#T_1ee8f_row16_col6 {\n  background-color: #244e81;\n  color: #f1f1f1;\n}\n#T_1ee8f_row17_col3 {\n  background-color: #1d6a8a;\n  color: #f1f1f1;\n}\n#T_1ee8f_row17_col4 {\n  background-color: #234f81;\n  color: #f1f1f1;\n}\n#T_1ee8f_row17_col5 {\n  background-color: #2c3473;\n  color: #f1f1f1;\n}\n#T_1ee8f_row18_col1 {\n  background-color: #29417a;\n  color: #f1f1f1;\n}\n#T_1ee8f_row19_col3 {\n  background-color: #2a3d78;\n  color: #f1f1f1;\n}\n#T_1ee8f_row20_col2 {\n  background-color: #2b3a76;\n  color: #f1f1f1;\n}\n#T_1ee8f_row20_col3 {\n  background-color: #2b7d8c;\n  color: #f1f1f1;\n}\n#T_1ee8f_row20_col4 {\n  background-color: #2a3b76;\n  color: #f1f1f1;\n}\n#T_1ee8f_row20_col5 {\n  background-color: #2b3975;\n  color: #f1f1f1;\n}\n#T_1ee8f_row20_col6 {\n  background-color: #1d6087;\n  color: #f1f1f1;\n}\n</style>\n<table id=\"T_1ee8f\">\n  <thead>\n    <tr>\n      <th class=\"blank level0\" >&nbsp;</th>\n      <th id=\"T_1ee8f_level0_col0\" class=\"col_heading level0 col0\" >query</th>\n      <th id=\"T_1ee8f_level0_col1\" class=\"col_heading level0 col1\" >rouge1_fmeasure</th>\n      <th id=\"T_1ee8f_level0_col2\" class=\"col_heading level0 col2\" >rouge1_precision</th>\n      <th id=\"T_1ee8f_level0_col3\" class=\"col_heading level0 col3\" >rouge1_recall</th>\n      <th id=\"T_1ee8f_level0_col4\" class=\"col_heading level0 col4\" >rougeL_fmeasure</th>\n      <th id=\"T_1ee8f_level0_col5\" class=\"col_heading level0 col5\" >rougeL_precision</th>\n      <th id=\"T_1ee8f_level0_col6\" class=\"col_heading level0 col6\" >rougeL_recall</th>\n    </tr>\n  </thead>\n  <tbody>\n    <tr>\n      <th id=\"T_1ee8f_level0_row0\" class=\"row_heading level0 row0\" >20</th>\n      <td id=\"T_1ee8f_row0_col0\" class=\"data row0 col0\" >13</td>\n      <td id=\"T_1ee8f_row0_col1\" class=\"data row0 col1\" >0.435231</td>\n      <td id=\"T_1ee8f_row0_col2\" class=\"data row0 col2\" >0.579873</td>\n      <td id=\"T_1ee8f_row0_col3\" class=\"data row0 col3\" >0.360670</td>\n      <td id=\"T_1ee8f_row0_col4\" class=\"data row0 col4\" >0.191167</td>\n      <td id=\"T_1ee8f_row0_col5\" class=\"data row0 col5\" >0.259084</td>\n      <td id=\"T_1ee8f_row0_col6\" class=\"data row0 col6\" >0.157253</td>\n    </tr>\n    <tr>\n      <th id=\"T_1ee8f_level0_row1\" class=\"row_heading level0 row1\" >9</th>\n      <td id=\"T_1ee8f_row1_col0\" class=\"data row1 col0\" >2</td>\n      <td id=\"T_1ee8f_row1_col1\" class=\"data row1 col1\" >0.393866</td>\n      <td id=\"T_1ee8f_row1_col2\" class=\"data row1 col2\" >0.552922</td>\n      <td id=\"T_1ee8f_row1_col3\" class=\"data row1 col3\" >0.327532</td>\n      <td id=\"T_1ee8f_row1_col4\" class=\"data row1 col4\" >0.201358</td>\n      <td id=\"T_1ee8f_row1_col5\" class=\"data row1 col5\" >0.287449</td>\n      <td id=\"T_1ee8f_row1_col6\" class=\"data row1 col6\" >0.166467</td>\n    </tr>\n    <tr>\n      <th id=\"T_1ee8f_level0_row2\" class=\"row_heading level0 row2\" >6</th>\n      <td id=\"T_1ee8f_row2_col0\" class=\"data row2 col0\" >14</td>\n      <td id=\"T_1ee8f_row2_col1\" class=\"data row2 col1\" >0.365844</td>\n      <td id=\"T_1ee8f_row2_col2\" class=\"data row2 col2\" >0.352091</td>\n      <td id=\"T_1ee8f_row2_col3\" class=\"data row2 col3\" >0.447049</td>\n      <td id=\"T_1ee8f_row2_col4\" class=\"data row2 col4\" >0.151216</td>\n      <td id=\"T_1ee8f_row2_col5\" class=\"data row2 col5\" >0.145062</td>\n      <td id=\"T_1ee8f_row2_col6\" class=\"data row2 col6\" >0.186343</td>\n    </tr>\n    <tr>\n      <th id=\"T_1ee8f_level0_row3\" class=\"row_heading level0 row3\" >3</th>\n      <td id=\"T_1ee8f_row3_col0\" class=\"data row3 col0\" >15</td>\n      <td id=\"T_1ee8f_row3_col1\" class=\"data row3 col1\" >0.365206</td>\n      <td id=\"T_1ee8f_row3_col2\" class=\"data row3 col2\" >0.319856</td>\n      <td id=\"T_1ee8f_row3_col3\" class=\"data row3 col3\" >0.472924</td>\n      <td id=\"T_1ee8f_row3_col4\" class=\"data row3 col4\" >0.192195</td>\n      <td id=\"T_1ee8f_row3_col5\" class=\"data row3 col5\" >0.168085</td>\n      <td id=\"T_1ee8f_row3_col6\" class=\"data row3 col6\" >0.250210</td>\n    </tr>\n    <tr>\n      <th id=\"T_1ee8f_level0_row4\" class=\"row_heading level0 row4\" >5</th>\n      <td id=\"T_1ee8f_row4_col0\" class=\"data row4 col0\" >20</td>\n      <td id=\"T_1ee8f_row4_col1\" class=\"data row4 col1\" >0.352228</td>\n      <td id=\"T_1ee8f_row4_col2\" class=\"data row4 col2\" >0.280186</td>\n      <td id=\"T_1ee8f_row4_col3\" class=\"data row4 col3\" >0.529417</td>\n      <td id=\"T_1ee8f_row4_col4\" class=\"data row4 col4\" >0.167449</td>\n      <td id=\"T_1ee8f_row4_col5\" class=\"data row4 col5\" >0.132756</td>\n      <td id=\"T_1ee8f_row4_col6\" class=\"data row4 col6\" >0.253810</td>\n    </tr>\n    <tr>\n      <th id=\"T_1ee8f_level0_row5\" class=\"row_heading level0 row5\" >7</th>\n      <td id=\"T_1ee8f_row5_col0\" class=\"data row5 col0\" >16</td>\n      <td id=\"T_1ee8f_row5_col1\" class=\"data row5 col1\" >0.349436</td>\n      <td id=\"T_1ee8f_row5_col2\" class=\"data row5 col2\" >0.327821</td>\n      <td id=\"T_1ee8f_row5_col3\" class=\"data row5 col3\" >0.410667</td>\n      <td id=\"T_1ee8f_row5_col4\" class=\"data row5 col4\" >0.190304</td>\n      <td id=\"T_1ee8f_row5_col5\" class=\"data row5 col5\" >0.179650</td>\n      <td id=\"T_1ee8f_row5_col6\" class=\"data row5 col6\" >0.223262</td>\n    </tr>\n    <tr>\n      <th id=\"T_1ee8f_level0_row6\" class=\"row_heading level0 row6\" >2</th>\n      <td id=\"T_1ee8f_row6_col0\" class=\"data row6 col0\" >10</td>\n      <td id=\"T_1ee8f_row6_col1\" class=\"data row6 col1\" >0.347732</td>\n      <td id=\"T_1ee8f_row6_col2\" class=\"data row6 col2\" >0.309640</td>\n      <td id=\"T_1ee8f_row6_col3\" class=\"data row6 col3\" >0.439815</td>\n      <td id=\"T_1ee8f_row6_col4\" class=\"data row6 col4\" >0.156579</td>\n      <td id=\"T_1ee8f_row6_col5\" class=\"data row6 col5\" >0.139393</td>\n      <td id=\"T_1ee8f_row6_col6\" class=\"data row6 col6\" >0.198741</td>\n    </tr>\n    <tr>\n      <th id=\"T_1ee8f_level0_row7\" class=\"row_heading level0 row7\" >0</th>\n      <td id=\"T_1ee8f_row7_col0\" class=\"data row7 col0\" >8</td>\n      <td id=\"T_1ee8f_row7_col1\" class=\"data row7 col1\" >0.313905</td>\n      <td id=\"T_1ee8f_row7_col2\" class=\"data row7 col2\" >0.241211</td>\n      <td id=\"T_1ee8f_row7_col3\" class=\"data row7 col3\" >0.504770</td>\n      <td id=\"T_1ee8f_row7_col4\" class=\"data row7 col4\" >0.185661</td>\n      <td id=\"T_1ee8f_row7_col5\" class=\"data row7 col5\" >0.141802</td>\n      <td id=\"T_1ee8f_row7_col6\" class=\"data row7 col6\" >0.302048</td>\n    </tr>\n    <tr>\n      <th id=\"T_1ee8f_level0_row8\" class=\"row_heading level0 row8\" >18</th>\n      <td id=\"T_1ee8f_row8_col0\" class=\"data row8 col0\" >4</td>\n      <td id=\"T_1ee8f_row8_col1\" class=\"data row8 col1\" >0.307826</td>\n      <td id=\"T_1ee8f_row8_col2\" class=\"data row8 col2\" >0.308069</td>\n      <td id=\"T_1ee8f_row8_col3\" class=\"data row8 col3\" >0.372920</td>\n      <td id=\"T_1ee8f_row8_col4\" class=\"data row8 col4\" >0.162363</td>\n      <td id=\"T_1ee8f_row8_col5\" class=\"data row8 col5\" >0.162830</td>\n      <td id=\"T_1ee8f_row8_col6\" class=\"data row8 col6\" >0.197799</td>\n    </tr>\n    <tr>\n      <th id=\"T_1ee8f_level0_row9\" class=\"row_heading level0 row9\" >21</th>\n      <td id=\"T_1ee8f_row9_col0\" class=\"data row9 col0\" >19</td>\n      <td id=\"T_1ee8f_row9_col1\" class=\"data row9 col1\" >0.287818</td>\n      <td id=\"T_1ee8f_row9_col2\" class=\"data row9 col2\" >0.220038</td>\n      <td id=\"T_1ee8f_row9_col3\" class=\"data row9 col3\" >0.538143</td>\n      <td id=\"T_1ee8f_row9_col4\" class=\"data row9 col4\" >0.155391</td>\n      <td id=\"T_1ee8f_row9_col5\" class=\"data row9 col5\" >0.118718</td>\n      <td id=\"T_1ee8f_row9_col6\" class=\"data row9 col6\" >0.295714</td>\n    </tr>\n    <tr>\n      <th id=\"T_1ee8f_level0_row10\" class=\"row_heading level0 row10\" >4</th>\n      <td id=\"T_1ee8f_row10_col0\" class=\"data row10 col0\" >21</td>\n      <td id=\"T_1ee8f_row10_col1\" class=\"data row10 col1\" >0.277765</td>\n      <td id=\"T_1ee8f_row10_col2\" class=\"data row10 col2\" >0.243552</td>\n      <td id=\"T_1ee8f_row10_col3\" class=\"data row10 col3\" >0.380583</td>\n      <td id=\"T_1ee8f_row10_col4\" class=\"data row10 col4\" >0.118493</td>\n      <td id=\"T_1ee8f_row10_col5\" class=\"data row10 col5\" >0.104316</td>\n      <td id=\"T_1ee8f_row10_col6\" class=\"data row10 col6\" >0.162534</td>\n    </tr>\n    <tr>\n      <th id=\"T_1ee8f_level0_row11\" class=\"row_heading level0 row11\" >12</th>\n      <td id=\"T_1ee8f_row11_col0\" class=\"data row11 col0\" >18</td>\n      <td id=\"T_1ee8f_row11_col1\" class=\"data row11 col1\" >0.250234</td>\n      <td id=\"T_1ee8f_row11_col2\" class=\"data row11 col2\" >0.181245</td>\n      <td id=\"T_1ee8f_row11_col3\" class=\"data row11 col3\" >0.548691</td>\n      <td id=\"T_1ee8f_row11_col4\" class=\"data row11 col4\" >0.148651</td>\n      <td id=\"T_1ee8f_row11_col5\" class=\"data row11 col5\" >0.106739</td>\n      <td id=\"T_1ee8f_row11_col6\" class=\"data row11 col6\" >0.337165</td>\n    </tr>\n    <tr>\n      <th id=\"T_1ee8f_level0_row12\" class=\"row_heading level0 row12\" >11</th>\n      <td id=\"T_1ee8f_row12_col0\" class=\"data row12 col0\" >17</td>\n      <td id=\"T_1ee8f_row12_col1\" class=\"data row12 col1\" >0.241562</td>\n      <td id=\"T_1ee8f_row12_col2\" class=\"data row12 col2\" >0.253150</td>\n      <td id=\"T_1ee8f_row12_col3\" class=\"data row12 col3\" >0.325556</td>\n      <td id=\"T_1ee8f_row12_col4\" class=\"data row12 col4\" >0.121733</td>\n      <td id=\"T_1ee8f_row12_col5\" class=\"data row12 col5\" >0.127716</td>\n      <td id=\"T_1ee8f_row12_col6\" class=\"data row12 col6\" >0.165333</td>\n    </tr>\n    <tr>\n      <th id=\"T_1ee8f_level0_row13\" class=\"row_heading level0 row13\" >15</th>\n      <td id=\"T_1ee8f_row13_col0\" class=\"data row13 col0\" >11</td>\n      <td id=\"T_1ee8f_row13_col1\" class=\"data row13 col1\" >0.239991</td>\n      <td id=\"T_1ee8f_row13_col2\" class=\"data row13 col2\" >0.167475</td>\n      <td id=\"T_1ee8f_row13_col3\" class=\"data row13 col3\" >0.558642</td>\n      <td id=\"T_1ee8f_row13_col4\" class=\"data row13 col4\" >0.158704</td>\n      <td id=\"T_1ee8f_row13_col5\" class=\"data row13 col5\" >0.111275</td>\n      <td id=\"T_1ee8f_row13_col6\" class=\"data row13 col6\" >0.365432</td>\n    </tr>\n    <tr>\n      <th id=\"T_1ee8f_level0_row14\" class=\"row_heading level0 row14\" >10</th>\n      <td id=\"T_1ee8f_row14_col0\" class=\"data row14 col0\" >22</td>\n      <td id=\"T_1ee8f_row14_col1\" class=\"data row14 col1\" >0.239006</td>\n      <td id=\"T_1ee8f_row14_col2\" class=\"data row14 col2\" >0.156680</td>\n      <td id=\"T_1ee8f_row14_col3\" class=\"data row14 col3\" >0.543109</td>\n      <td id=\"T_1ee8f_row14_col4\" class=\"data row14 col4\" >0.126098</td>\n      <td id=\"T_1ee8f_row14_col5\" class=\"data row14 col5\" >0.082533</td>\n      <td id=\"T_1ee8f_row14_col6\" class=\"data row14 col6\" >0.288631</td>\n    </tr>\n    <tr>\n      <th id=\"T_1ee8f_level0_row15\" class=\"row_heading level0 row15\" >16</th>\n      <td id=\"T_1ee8f_row15_col0\" class=\"data row15 col0\" >5</td>\n      <td id=\"T_1ee8f_row15_col1\" class=\"data row15 col1\" >0.233218</td>\n      <td id=\"T_1ee8f_row15_col2\" class=\"data row15 col2\" >0.140464</td>\n      <td id=\"T_1ee8f_row15_col3\" class=\"data row15 col3\" >0.825282</td>\n      <td id=\"T_1ee8f_row15_col4\" class=\"data row15 col4\" >0.201323</td>\n      <td id=\"T_1ee8f_row15_col5\" class=\"data row15 col5\" >0.121287</td>\n      <td id=\"T_1ee8f_row15_col6\" class=\"data row15 col6\" >0.714171</td>\n    </tr>\n    <tr>\n      <th id=\"T_1ee8f_level0_row16\" class=\"row_heading level0 row16\" >17</th>\n      <td id=\"T_1ee8f_row16_col0\" class=\"data row16 col0\" >7</td>\n      <td id=\"T_1ee8f_row16_col1\" class=\"data row16 col1\" >0.227330</td>\n      <td id=\"T_1ee8f_row16_col2\" class=\"data row16 col2\" >0.193358</td>\n      <td id=\"T_1ee8f_row16_col3\" class=\"data row16 col3\" >0.362500</td>\n      <td id=\"T_1ee8f_row16_col4\" class=\"data row16 col4\" >0.141716</td>\n      <td id=\"T_1ee8f_row16_col5\" class=\"data row16 col5\" >0.124696</td>\n      <td id=\"T_1ee8f_row16_col6\" class=\"data row16 col6\" >0.216204</td>\n    </tr>\n    <tr>\n      <th id=\"T_1ee8f_level0_row17\" class=\"row_heading level0 row17\" >1</th>\n      <td id=\"T_1ee8f_row17_col0\" class=\"data row17 col0\" >3</td>\n      <td id=\"T_1ee8f_row17_col1\" class=\"data row17 col1\" >0.224340</td>\n      <td id=\"T_1ee8f_row17_col2\" class=\"data row17 col2\" >0.157129</td>\n      <td id=\"T_1ee8f_row17_col3\" class=\"data row17 col3\" >0.418250</td>\n      <td id=\"T_1ee8f_row17_col4\" class=\"data row17 col4\" >0.123944</td>\n      <td id=\"T_1ee8f_row17_col5\" class=\"data row17 col5\" >0.086516</td>\n      <td id=\"T_1ee8f_row17_col6\" class=\"data row17 col6\" >0.233553</td>\n    </tr>\n    <tr>\n      <th id=\"T_1ee8f_level0_row18\" class=\"row_heading level0 row18\" >19</th>\n      <td id=\"T_1ee8f_row18_col0\" class=\"data row18 col0\" >6</td>\n      <td id=\"T_1ee8f_row18_col1\" class=\"data row18 col1\" >0.216379</td>\n      <td id=\"T_1ee8f_row18_col2\" class=\"data row18 col2\" >0.203171</td>\n      <td id=\"T_1ee8f_row18_col3\" class=\"data row18 col3\" >0.340565</td>\n      <td id=\"T_1ee8f_row18_col4\" class=\"data row18 col4\" >0.127349</td>\n      <td id=\"T_1ee8f_row18_col5\" class=\"data row18 col5\" >0.120415</td>\n      <td id=\"T_1ee8f_row18_col6\" class=\"data row18 col6\" >0.198229</td>\n    </tr>\n    <tr>\n      <th id=\"T_1ee8f_level0_row19\" class=\"row_heading level0 row19\" >14</th>\n      <td id=\"T_1ee8f_row19_col0\" class=\"data row19 col0\" >12</td>\n      <td id=\"T_1ee8f_row19_col1\" class=\"data row19 col1\" >0.203532</td>\n      <td id=\"T_1ee8f_row19_col2\" class=\"data row19 col2\" >0.201414</td>\n      <td id=\"T_1ee8f_row19_col3\" class=\"data row19 col3\" >0.264777</td>\n      <td id=\"T_1ee8f_row19_col4\" class=\"data row19 col4\" >0.108821</td>\n      <td id=\"T_1ee8f_row19_col5\" class=\"data row19 col5\" >0.109358</td>\n      <td id=\"T_1ee8f_row19_col6\" class=\"data row19 col6\" >0.139967</td>\n    </tr>\n    <tr>\n      <th id=\"T_1ee8f_level0_row20\" class=\"row_heading level0 row20\" >13</th>\n      <td id=\"T_1ee8f_row20_col0\" class=\"data row20 col0\" >1</td>\n      <td id=\"T_1ee8f_row20_col1\" class=\"data row20 col1\" >0.203511</td>\n      <td id=\"T_1ee8f_row20_col2\" class=\"data row20 col2\" >0.161316</td>\n      <td id=\"T_1ee8f_row20_col3\" class=\"data row20 col3\" >0.491781</td>\n      <td id=\"T_1ee8f_row20_col4\" class=\"data row20 col4\" >0.113657</td>\n      <td id=\"T_1ee8f_row20_col5\" class=\"data row20 col5\" >0.091594</td>\n      <td id=\"T_1ee8f_row20_col6\" class=\"data row20 col6\" >0.274657</td>\n    </tr>\n    <tr>\n      <th id=\"T_1ee8f_level0_row21\" class=\"row_heading level0 row21\" >8</th>\n      <td id=\"T_1ee8f_row21_col0\" class=\"data row21 col0\" >9</td>\n      <td id=\"T_1ee8f_row21_col1\" class=\"data row21 col1\" >0.195000</td>\n      <td id=\"T_1ee8f_row21_col2\" class=\"data row21 col2\" >0.237365</td>\n      <td id=\"T_1ee8f_row21_col3\" class=\"data row21 col3\" >0.223441</td>\n      <td id=\"T_1ee8f_row21_col4\" class=\"data row21 col4\" >0.108412</td>\n      <td id=\"T_1ee8f_row21_col5\" class=\"data row21 col5\" >0.146754</td>\n      <td id=\"T_1ee8f_row21_col6\" class=\"data row21 col6\" >0.118787</td>\n    </tr>\n  </tbody>\n</table>\n"
          },
          "metadata": {}
        }
      ],
      "execution_count": 189,
      "metadata": {
        "gather": {
          "logged": 1752444631609
        },
        "collapsed": true
      }
    },
    {
      "cell_type": "code",
      "source": [
        "def colour_rows(row):\n",
        "    #Function to colour rows based on category\n",
        "    if row['category'] == 'deployment_name':\n",
        "        return ['background-color: lightblue'] * len(row)\n",
        "    elif row['category'] == 'embedding_model':\n",
        "        return ['background-color: lightgreen'] * len(row)\n",
        "    elif row['category'] == 'search_algorithm':\n",
        "        return ['background-color: lightyellow'] * len(row)\n",
        "    elif row['category'] == 'agentic_rerank':\n",
        "        return ['background-color: lightsalmon'] * len(row)\n",
        "    else:\n",
        "        return ['background-color: white'] * len(row)\n"
      ],
      "outputs": [],
      "execution_count": 10,
      "metadata": {
        "gather": {
          "logged": 1752498415938
        }
      }
    },
    {
      "cell_type": "code",
      "source": [
        "df_rouge_deploy = df_merged_rouge[[\"deployment_name\", 'rouge1_fmeasure', 'rouge1_precision', 'rouge1_recall',  'rougeL_fmeasure',\n",
        "           'rougeL_precision', 'rougeL_recall']].groupby([\"deployment_name\"]).mean().reset_index()\n",
        "df_rouge_embed = df_merged_rouge[[\"embedding_model\", 'rouge1_fmeasure', 'rouge1_precision', 'rouge1_recall',  'rougeL_fmeasure',\n",
        "           'rougeL_precision', 'rougeL_recall']].groupby([\"embedding_model\"]).mean().reset_index()\n",
        "df_rouge_search = df_merged_rouge[[\"search_algorithm\", 'rouge1_fmeasure', 'rouge1_precision', 'rouge1_recall',  'rougeL_fmeasure',\n",
        "           'rougeL_precision', 'rougeL_recall']].groupby([\"search_algorithm\"]).mean().reset_index()\n",
        "df_rouge_agentic_rerank = df_merged_rouge.groupby([\"agentic_retrieval\", \"reranking\"])[\n",
        "    ['rouge1_fmeasure', 'rouge1_precision', 'rouge1_recall',  'rougeL_fmeasure', 'rougeL_precision', 'rougeL_recall']].mean().reset_index()"
      ],
      "outputs": [],
      "execution_count": null,
      "metadata": {}
    },
    {
      "cell_type": "code",
      "source": [
        "#Create table grouped by method category with mean ROUGE metrics\n",
        "df_rouge_deploy['category'] = 'deployment_name'\n",
        "df_rouge_embed['category'] = 'embedding_model'\n",
        "df_rouge_search['category'] = 'search_algorithm'\n",
        "df_rouge_agentic_rerank['category'] = 'agentic_rerank'\n",
        "\n",
        "df_rouge_combined = pd.concat(\n",
        "    [df_rouge_deploy, df_rouge_embed, df_rouge_search, df_rouge_agentic_rerank],\n",
        "    ignore_index=True\n",
        ")\n",
        "\n",
        "df_rouge_combined = df_rouge_combined[[\"category\", \"deployment_name\", \"embedding_model\", \"search_algorithm\", \"agentic_retrieval\", \"reranking\", 'rouge1_fmeasure', 'rouge1_precision', 'rouge1_recall',  'rougeL_fmeasure', 'rougeL_precision', 'rougeL_recall']]\n",
        "df_rouge_combined.style.apply(colour_rows, axis=1)"
      ],
      "outputs": [
        {
          "output_type": "execute_result",
          "execution_count": 11,
          "data": {
            "text/plain": "<pandas.io.formats.style.Styler at 0x7365dbfb8820>",
            "text/html": "<style type=\"text/css\">\n#T_97749_row0_col0, #T_97749_row0_col1, #T_97749_row0_col2, #T_97749_row0_col3, #T_97749_row0_col4, #T_97749_row0_col5, #T_97749_row0_col6, #T_97749_row0_col7, #T_97749_row0_col8, #T_97749_row0_col9, #T_97749_row0_col10, #T_97749_row0_col11, #T_97749_row1_col0, #T_97749_row1_col1, #T_97749_row1_col2, #T_97749_row1_col3, #T_97749_row1_col4, #T_97749_row1_col5, #T_97749_row1_col6, #T_97749_row1_col7, #T_97749_row1_col8, #T_97749_row1_col9, #T_97749_row1_col10, #T_97749_row1_col11 {\n  background-color: lightblue;\n}\n#T_97749_row2_col0, #T_97749_row2_col1, #T_97749_row2_col2, #T_97749_row2_col3, #T_97749_row2_col4, #T_97749_row2_col5, #T_97749_row2_col6, #T_97749_row2_col7, #T_97749_row2_col8, #T_97749_row2_col9, #T_97749_row2_col10, #T_97749_row2_col11, #T_97749_row3_col0, #T_97749_row3_col1, #T_97749_row3_col2, #T_97749_row3_col3, #T_97749_row3_col4, #T_97749_row3_col5, #T_97749_row3_col6, #T_97749_row3_col7, #T_97749_row3_col8, #T_97749_row3_col9, #T_97749_row3_col10, #T_97749_row3_col11, #T_97749_row4_col0, #T_97749_row4_col1, #T_97749_row4_col2, #T_97749_row4_col3, #T_97749_row4_col4, #T_97749_row4_col5, #T_97749_row4_col6, #T_97749_row4_col7, #T_97749_row4_col8, #T_97749_row4_col9, #T_97749_row4_col10, #T_97749_row4_col11 {\n  background-color: lightgreen;\n}\n#T_97749_row5_col0, #T_97749_row5_col1, #T_97749_row5_col2, #T_97749_row5_col3, #T_97749_row5_col4, #T_97749_row5_col5, #T_97749_row5_col6, #T_97749_row5_col7, #T_97749_row5_col8, #T_97749_row5_col9, #T_97749_row5_col10, #T_97749_row5_col11, #T_97749_row6_col0, #T_97749_row6_col1, #T_97749_row6_col2, #T_97749_row6_col3, #T_97749_row6_col4, #T_97749_row6_col5, #T_97749_row6_col6, #T_97749_row6_col7, #T_97749_row6_col8, #T_97749_row6_col9, #T_97749_row6_col10, #T_97749_row6_col11 {\n  background-color: lightyellow;\n}\n#T_97749_row7_col0, #T_97749_row7_col1, #T_97749_row7_col2, #T_97749_row7_col3, #T_97749_row7_col4, #T_97749_row7_col5, #T_97749_row7_col6, #T_97749_row7_col7, #T_97749_row7_col8, #T_97749_row7_col9, #T_97749_row7_col10, #T_97749_row7_col11, #T_97749_row8_col0, #T_97749_row8_col1, #T_97749_row8_col2, #T_97749_row8_col3, #T_97749_row8_col4, #T_97749_row8_col5, #T_97749_row8_col6, #T_97749_row8_col7, #T_97749_row8_col8, #T_97749_row8_col9, #T_97749_row8_col10, #T_97749_row8_col11, #T_97749_row9_col0, #T_97749_row9_col1, #T_97749_row9_col2, #T_97749_row9_col3, #T_97749_row9_col4, #T_97749_row9_col5, #T_97749_row9_col6, #T_97749_row9_col7, #T_97749_row9_col8, #T_97749_row9_col9, #T_97749_row9_col10, #T_97749_row9_col11 {\n  background-color: lightsalmon;\n}\n</style>\n<table id=\"T_97749\">\n  <thead>\n    <tr>\n      <th class=\"blank level0\" >&nbsp;</th>\n      <th id=\"T_97749_level0_col0\" class=\"col_heading level0 col0\" >category</th>\n      <th id=\"T_97749_level0_col1\" class=\"col_heading level0 col1\" >deployment_name</th>\n      <th id=\"T_97749_level0_col2\" class=\"col_heading level0 col2\" >embedding_model</th>\n      <th id=\"T_97749_level0_col3\" class=\"col_heading level0 col3\" >search_algorithm</th>\n      <th id=\"T_97749_level0_col4\" class=\"col_heading level0 col4\" >agentic_retrieval</th>\n      <th id=\"T_97749_level0_col5\" class=\"col_heading level0 col5\" >reranking</th>\n      <th id=\"T_97749_level0_col6\" class=\"col_heading level0 col6\" >rouge1_fmeasure</th>\n      <th id=\"T_97749_level0_col7\" class=\"col_heading level0 col7\" >rouge1_precision</th>\n      <th id=\"T_97749_level0_col8\" class=\"col_heading level0 col8\" >rouge1_recall</th>\n      <th id=\"T_97749_level0_col9\" class=\"col_heading level0 col9\" >rougeL_fmeasure</th>\n      <th id=\"T_97749_level0_col10\" class=\"col_heading level0 col10\" >rougeL_precision</th>\n      <th id=\"T_97749_level0_col11\" class=\"col_heading level0 col11\" >rougeL_recall</th>\n    </tr>\n  </thead>\n  <tbody>\n    <tr>\n      <th id=\"T_97749_level0_row0\" class=\"row_heading level0 row0\" >0</th>\n      <td id=\"T_97749_row0_col0\" class=\"data row0 col0\" >deployment_name</td>\n      <td id=\"T_97749_row0_col1\" class=\"data row0 col1\" >gpt-4.1</td>\n      <td id=\"T_97749_row0_col2\" class=\"data row0 col2\" >nan</td>\n      <td id=\"T_97749_row0_col3\" class=\"data row0 col3\" >nan</td>\n      <td id=\"T_97749_row0_col4\" class=\"data row0 col4\" >nan</td>\n      <td id=\"T_97749_row0_col5\" class=\"data row0 col5\" >nan</td>\n      <td id=\"T_97749_row0_col6\" class=\"data row0 col6\" >0.276196</td>\n      <td id=\"T_97749_row0_col7\" class=\"data row0 col7\" >0.217159</td>\n      <td id=\"T_97749_row0_col8\" class=\"data row0 col8\" >0.519177</td>\n      <td id=\"T_97749_row0_col9\" class=\"data row0 col9\" >0.146098</td>\n      <td id=\"T_97749_row0_col10\" class=\"data row0 col10\" >0.112356</td>\n      <td id=\"T_97749_row0_col11\" class=\"data row0 col11\" >0.293037</td>\n    </tr>\n    <tr>\n      <th id=\"T_97749_level0_row1\" class=\"row_heading level0 row1\" >1</th>\n      <td id=\"T_97749_row1_col0\" class=\"data row1 col0\" >deployment_name</td>\n      <td id=\"T_97749_row1_col1\" class=\"data row1 col1\" >gpt-4o</td>\n      <td id=\"T_97749_row1_col2\" class=\"data row1 col2\" >nan</td>\n      <td id=\"T_97749_row1_col3\" class=\"data row1 col3\" >nan</td>\n      <td id=\"T_97749_row1_col4\" class=\"data row1 col4\" >nan</td>\n      <td id=\"T_97749_row1_col5\" class=\"data row1 col5\" >nan</td>\n      <td id=\"T_97749_row1_col6\" class=\"data row1 col6\" >0.293892</td>\n      <td id=\"T_97749_row1_col7\" class=\"data row1 col7\" >0.309025</td>\n      <td id=\"T_97749_row1_col8\" class=\"data row1 col8\" >0.361467</td>\n      <td id=\"T_97749_row1_col9\" class=\"data row1 col9\" >0.158682</td>\n      <td id=\"T_97749_row1_col10\" class=\"data row1 col10\" >0.166555</td>\n      <td id=\"T_97749_row1_col11\" class=\"data row1 col11\" >0.202082</td>\n    </tr>\n    <tr>\n      <th id=\"T_97749_level0_row2\" class=\"row_heading level0 row2\" >2</th>\n      <td id=\"T_97749_row2_col0\" class=\"data row2 col0\" >embedding_model</td>\n      <td id=\"T_97749_row2_col1\" class=\"data row2 col1\" >nan</td>\n      <td id=\"T_97749_row2_col2\" class=\"data row2 col2\" >multilingual-e5-small</td>\n      <td id=\"T_97749_row2_col3\" class=\"data row2 col3\" >nan</td>\n      <td id=\"T_97749_row2_col4\" class=\"data row2 col4\" >nan</td>\n      <td id=\"T_97749_row2_col5\" class=\"data row2 col5\" >nan</td>\n      <td id=\"T_97749_row2_col6\" class=\"data row2 col6\" >0.285897</td>\n      <td id=\"T_97749_row2_col7\" class=\"data row2 col7\" >0.266347</td>\n      <td id=\"T_97749_row2_col8\" class=\"data row2 col8\" >0.436946</td>\n      <td id=\"T_97749_row2_col9\" class=\"data row2 col9\" >0.153205</td>\n      <td id=\"T_97749_row2_col10\" class=\"data row2 col10\" >0.141724</td>\n      <td id=\"T_97749_row2_col11\" class=\"data row2 col11\" >0.246099</td>\n    </tr>\n    <tr>\n      <th id=\"T_97749_level0_row3\" class=\"row_heading level0 row3\" >3</th>\n      <td id=\"T_97749_row3_col0\" class=\"data row3 col0\" >embedding_model</td>\n      <td id=\"T_97749_row3_col1\" class=\"data row3 col1\" >nan</td>\n      <td id=\"T_97749_row3_col2\" class=\"data row3 col2\" >text-embedding-3-large</td>\n      <td id=\"T_97749_row3_col3\" class=\"data row3 col3\" >nan</td>\n      <td id=\"T_97749_row3_col4\" class=\"data row3 col4\" >nan</td>\n      <td id=\"T_97749_row3_col5\" class=\"data row3 col5\" >nan</td>\n      <td id=\"T_97749_row3_col6\" class=\"data row3 col6\" >0.284759</td>\n      <td id=\"T_97749_row3_col7\" class=\"data row3 col7\" >0.256881</td>\n      <td id=\"T_97749_row3_col8\" class=\"data row3 col8\" >0.450130</td>\n      <td id=\"T_97749_row3_col9\" class=\"data row3 col9\" >0.151321</td>\n      <td id=\"T_97749_row3_col10\" class=\"data row3 col10\" >0.134888</td>\n      <td id=\"T_97749_row3_col11\" class=\"data row3 col11\" >0.251457</td>\n    </tr>\n    <tr>\n      <th id=\"T_97749_level0_row4\" class=\"row_heading level0 row4\" >4</th>\n      <td id=\"T_97749_row4_col0\" class=\"data row4 col0\" >embedding_model</td>\n      <td id=\"T_97749_row4_col1\" class=\"data row4 col1\" >nan</td>\n      <td id=\"T_97749_row4_col2\" class=\"data row4 col2\" >text-embedding-ada-002</td>\n      <td id=\"T_97749_row4_col3\" class=\"data row4 col3\" >nan</td>\n      <td id=\"T_97749_row4_col4\" class=\"data row4 col4\" >nan</td>\n      <td id=\"T_97749_row4_col5\" class=\"data row4 col5\" >nan</td>\n      <td id=\"T_97749_row4_col6\" class=\"data row4 col6\" >0.284475</td>\n      <td id=\"T_97749_row4_col7\" class=\"data row4 col7\" >0.266048</td>\n      <td id=\"T_97749_row4_col8\" class=\"data row4 col8\" >0.433890</td>\n      <td id=\"T_97749_row4_col9\" class=\"data row4 col9\" >0.152644</td>\n      <td id=\"T_97749_row4_col10\" class=\"data row4 col10\" >0.141756</td>\n      <td id=\"T_97749_row4_col11\" class=\"data row4 col11\" >0.245122</td>\n    </tr>\n    <tr>\n      <th id=\"T_97749_level0_row5\" class=\"row_heading level0 row5\" >5</th>\n      <td id=\"T_97749_row5_col0\" class=\"data row5 col0\" >search_algorithm</td>\n      <td id=\"T_97749_row5_col1\" class=\"data row5 col1\" >nan</td>\n      <td id=\"T_97749_row5_col2\" class=\"data row5 col2\" >nan</td>\n      <td id=\"T_97749_row5_col3\" class=\"data row5 col3\" >HNSW</td>\n      <td id=\"T_97749_row5_col4\" class=\"data row5 col4\" >nan</td>\n      <td id=\"T_97749_row5_col5\" class=\"data row5 col5\" >nan</td>\n      <td id=\"T_97749_row5_col6\" class=\"data row5 col6\" >0.284956</td>\n      <td id=\"T_97749_row5_col7\" class=\"data row5 col7\" >0.263359</td>\n      <td id=\"T_97749_row5_col8\" class=\"data row5 col8\" >0.439879</td>\n      <td id=\"T_97749_row5_col9\" class=\"data row5 col9\" >0.152591</td>\n      <td id=\"T_97749_row5_col10\" class=\"data row5 col10\" >0.139950</td>\n      <td id=\"T_97749_row5_col11\" class=\"data row5 col11\" >0.247790</td>\n    </tr>\n    <tr>\n      <th id=\"T_97749_level0_row6\" class=\"row_heading level0 row6\" >6</th>\n      <td id=\"T_97749_row6_col0\" class=\"data row6 col0\" >search_algorithm</td>\n      <td id=\"T_97749_row6_col1\" class=\"data row6 col1\" >nan</td>\n      <td id=\"T_97749_row6_col2\" class=\"data row6 col2\" >nan</td>\n      <td id=\"T_97749_row6_col3\" class=\"data row6 col3\" >KNN</td>\n      <td id=\"T_97749_row6_col4\" class=\"data row6 col4\" >nan</td>\n      <td id=\"T_97749_row6_col5\" class=\"data row6 col5\" >nan</td>\n      <td id=\"T_97749_row6_col6\" class=\"data row6 col6\" >0.285131</td>\n      <td id=\"T_97749_row6_col7\" class=\"data row6 col7\" >0.262826</td>\n      <td id=\"T_97749_row6_col8\" class=\"data row6 col8\" >0.440765</td>\n      <td id=\"T_97749_row6_col9\" class=\"data row6 col9\" >0.152189</td>\n      <td id=\"T_97749_row6_col10\" class=\"data row6 col10\" >0.138962</td>\n      <td id=\"T_97749_row6_col11\" class=\"data row6 col11\" >0.247329</td>\n    </tr>\n    <tr>\n      <th id=\"T_97749_level0_row7\" class=\"row_heading level0 row7\" >7</th>\n      <td id=\"T_97749_row7_col0\" class=\"data row7 col0\" >agentic_rerank</td>\n      <td id=\"T_97749_row7_col1\" class=\"data row7 col1\" >nan</td>\n      <td id=\"T_97749_row7_col2\" class=\"data row7 col2\" >nan</td>\n      <td id=\"T_97749_row7_col3\" class=\"data row7 col3\" >nan</td>\n      <td id=\"T_97749_row7_col4\" class=\"data row7 col4\" >False</td>\n      <td id=\"T_97749_row7_col5\" class=\"data row7 col5\" >False</td>\n      <td id=\"T_97749_row7_col6\" class=\"data row7 col6\" >0.295410</td>\n      <td id=\"T_97749_row7_col7\" class=\"data row7 col7\" >0.277797</td>\n      <td id=\"T_97749_row7_col8\" class=\"data row7 col8\" >0.425401</td>\n      <td id=\"T_97749_row7_col9\" class=\"data row7 col9\" >0.156562</td>\n      <td id=\"T_97749_row7_col10\" class=\"data row7 col10\" >0.145890</td>\n      <td id=\"T_97749_row7_col11\" class=\"data row7 col11\" >0.237219</td>\n    </tr>\n    <tr>\n      <th id=\"T_97749_level0_row8\" class=\"row_heading level0 row8\" >8</th>\n      <td id=\"T_97749_row8_col0\" class=\"data row8 col0\" >agentic_rerank</td>\n      <td id=\"T_97749_row8_col1\" class=\"data row8 col1\" >nan</td>\n      <td id=\"T_97749_row8_col2\" class=\"data row8 col2\" >nan</td>\n      <td id=\"T_97749_row8_col3\" class=\"data row8 col3\" >nan</td>\n      <td id=\"T_97749_row8_col4\" class=\"data row8 col4\" >True</td>\n      <td id=\"T_97749_row8_col5\" class=\"data row8 col5\" >False</td>\n      <td id=\"T_97749_row8_col6\" class=\"data row8 col6\" >0.280049</td>\n      <td id=\"T_97749_row8_col7\" class=\"data row8 col7\" >0.256844</td>\n      <td id=\"T_97749_row8_col8\" class=\"data row8 col8\" >0.443359</td>\n      <td id=\"T_97749_row8_col9\" class=\"data row8 col9\" >0.150787</td>\n      <td id=\"T_97749_row8_col10\" class=\"data row8 col10\" >0.137132</td>\n      <td id=\"T_97749_row8_col11\" class=\"data row8 col11\" >0.250622</td>\n    </tr>\n    <tr>\n      <th id=\"T_97749_level0_row9\" class=\"row_heading level0 row9\" >9</th>\n      <td id=\"T_97749_row9_col0\" class=\"data row9 col0\" >agentic_rerank</td>\n      <td id=\"T_97749_row9_col1\" class=\"data row9 col1\" >nan</td>\n      <td id=\"T_97749_row9_col2\" class=\"data row9 col2\" >nan</td>\n      <td id=\"T_97749_row9_col3\" class=\"data row9 col3\" >nan</td>\n      <td id=\"T_97749_row9_col4\" class=\"data row9 col4\" >True</td>\n      <td id=\"T_97749_row9_col5\" class=\"data row9 col5\" >True</td>\n      <td id=\"T_97749_row9_col6\" class=\"data row9 col6\" >0.279673</td>\n      <td id=\"T_97749_row9_col7\" class=\"data row9 col7\" >0.254636</td>\n      <td id=\"T_97749_row9_col8\" class=\"data row9 col8\" >0.452206</td>\n      <td id=\"T_97749_row9_col9\" class=\"data row9 col9\" >0.149822</td>\n      <td id=\"T_97749_row9_col10\" class=\"data row9 col10\" >0.135345</td>\n      <td id=\"T_97749_row9_col11\" class=\"data row9 col11\" >0.254837</td>\n    </tr>\n  </tbody>\n</table>\n"
          },
          "metadata": {}
        }
      ],
      "execution_count": 11,
      "metadata": {
        "gather": {
          "logged": 1752498418359
        }
      }
    },
    {
      "cell_type": "code",
      "source": [
        "df_ragas_deploy = df_ragas_evaluation[[\"deployment_name\", 'aggregated_score', 'faithfulness', 'context_recall',  'context_precision',\n",
        "           'time']].groupby([\"deployment_name\"]).mean().reset_index()\n",
        "df_ragas_embed = df_ragas_evaluation[[\"embedding_model\", 'aggregated_score', 'faithfulness', 'context_recall',  'context_precision',\n",
        "           'time']].groupby([\"embedding_model\"]).mean().reset_index()\n",
        "df_ragas_search = df_ragas_evaluation[[\"search_algorithm\", 'aggregated_score', 'faithfulness', 'context_recall',  'context_precision',\n",
        "           'time']].groupby([\"search_algorithm\"]).mean().reset_index()\n",
        "\n",
        "df_ragas_agentic_rerank = df_ragas_evaluation.groupby([\"agentic_retrieval\", \"reranking\"])[\n",
        "    ['aggregated_score', 'faithfulness', 'context_recall', 'context_precision', 'time']].mean().reset_index()"
      ],
      "outputs": [],
      "execution_count": null,
      "metadata": {
        "gather": {
          "logged": 1752498421610
        }
      }
    },
    {
      "cell_type": "code",
      "source": [
        "#Create table grouped by method category with mean RAGAs metrics\n",
        "df_ragas_deploy['category'] = 'deployment_name'\n",
        "df_ragas_embed['category'] = 'embedding_model'\n",
        "df_ragas_search['category'] = 'search_algorithm'\n",
        "df_ragas_agentic_rerank['category'] = 'agentic_rerank'\n",
        "\n",
        "df_ragas_combined = pd.concat(\n",
        "    [df_ragas_deploy, df_ragas_embed, df_ragas_search, df_ragas_agentic_rerank],\n",
        "    ignore_index=True\n",
        ")\n",
        "\n",
        "df_ragas_combined = df_ragas_combined[[\"category\", \"deployment_name\", \"embedding_model\", \"search_algorithm\", \"agentic_retrieval\", \"reranking\", \"aggregated_score\", \"faithfulness\", \"context_recall\", \"context_precision\", \"time\"]]\n",
        "df_ragas_combined.style.apply(colour_rows, axis=1)"
      ],
      "outputs": [
        {
          "output_type": "execute_result",
          "execution_count": 14,
          "data": {
            "text/plain": "<pandas.io.formats.style.Styler at 0x7365da15a2f0>",
            "text/html": "<style type=\"text/css\">\n#T_bde18_row0_col0, #T_bde18_row0_col1, #T_bde18_row0_col2, #T_bde18_row0_col3, #T_bde18_row0_col4, #T_bde18_row0_col5, #T_bde18_row0_col6, #T_bde18_row0_col7, #T_bde18_row0_col8, #T_bde18_row0_col9, #T_bde18_row0_col10, #T_bde18_row1_col0, #T_bde18_row1_col1, #T_bde18_row1_col2, #T_bde18_row1_col3, #T_bde18_row1_col4, #T_bde18_row1_col5, #T_bde18_row1_col6, #T_bde18_row1_col7, #T_bde18_row1_col8, #T_bde18_row1_col9, #T_bde18_row1_col10 {\n  background-color: lightblue;\n}\n#T_bde18_row2_col0, #T_bde18_row2_col1, #T_bde18_row2_col2, #T_bde18_row2_col3, #T_bde18_row2_col4, #T_bde18_row2_col5, #T_bde18_row2_col6, #T_bde18_row2_col7, #T_bde18_row2_col8, #T_bde18_row2_col9, #T_bde18_row2_col10, #T_bde18_row3_col0, #T_bde18_row3_col1, #T_bde18_row3_col2, #T_bde18_row3_col3, #T_bde18_row3_col4, #T_bde18_row3_col5, #T_bde18_row3_col6, #T_bde18_row3_col7, #T_bde18_row3_col8, #T_bde18_row3_col9, #T_bde18_row3_col10, #T_bde18_row4_col0, #T_bde18_row4_col1, #T_bde18_row4_col2, #T_bde18_row4_col3, #T_bde18_row4_col4, #T_bde18_row4_col5, #T_bde18_row4_col6, #T_bde18_row4_col7, #T_bde18_row4_col8, #T_bde18_row4_col9, #T_bde18_row4_col10 {\n  background-color: lightgreen;\n}\n#T_bde18_row5_col0, #T_bde18_row5_col1, #T_bde18_row5_col2, #T_bde18_row5_col3, #T_bde18_row5_col4, #T_bde18_row5_col5, #T_bde18_row5_col6, #T_bde18_row5_col7, #T_bde18_row5_col8, #T_bde18_row5_col9, #T_bde18_row5_col10, #T_bde18_row6_col0, #T_bde18_row6_col1, #T_bde18_row6_col2, #T_bde18_row6_col3, #T_bde18_row6_col4, #T_bde18_row6_col5, #T_bde18_row6_col6, #T_bde18_row6_col7, #T_bde18_row6_col8, #T_bde18_row6_col9, #T_bde18_row6_col10 {\n  background-color: lightyellow;\n}\n#T_bde18_row7_col0, #T_bde18_row7_col1, #T_bde18_row7_col2, #T_bde18_row7_col3, #T_bde18_row7_col4, #T_bde18_row7_col5, #T_bde18_row7_col6, #T_bde18_row7_col7, #T_bde18_row7_col8, #T_bde18_row7_col9, #T_bde18_row7_col10, #T_bde18_row8_col0, #T_bde18_row8_col1, #T_bde18_row8_col2, #T_bde18_row8_col3, #T_bde18_row8_col4, #T_bde18_row8_col5, #T_bde18_row8_col6, #T_bde18_row8_col7, #T_bde18_row8_col8, #T_bde18_row8_col9, #T_bde18_row8_col10, #T_bde18_row9_col0, #T_bde18_row9_col1, #T_bde18_row9_col2, #T_bde18_row9_col3, #T_bde18_row9_col4, #T_bde18_row9_col5, #T_bde18_row9_col6, #T_bde18_row9_col7, #T_bde18_row9_col8, #T_bde18_row9_col9, #T_bde18_row9_col10 {\n  background-color: lightsalmon;\n}\n</style>\n<table id=\"T_bde18\">\n  <thead>\n    <tr>\n      <th class=\"blank level0\" >&nbsp;</th>\n      <th id=\"T_bde18_level0_col0\" class=\"col_heading level0 col0\" >category</th>\n      <th id=\"T_bde18_level0_col1\" class=\"col_heading level0 col1\" >deployment_name</th>\n      <th id=\"T_bde18_level0_col2\" class=\"col_heading level0 col2\" >embedding_model</th>\n      <th id=\"T_bde18_level0_col3\" class=\"col_heading level0 col3\" >search_algorithm</th>\n      <th id=\"T_bde18_level0_col4\" class=\"col_heading level0 col4\" >agentic_retrieval</th>\n      <th id=\"T_bde18_level0_col5\" class=\"col_heading level0 col5\" >reranking</th>\n      <th id=\"T_bde18_level0_col6\" class=\"col_heading level0 col6\" >aggregated_score</th>\n      <th id=\"T_bde18_level0_col7\" class=\"col_heading level0 col7\" >faithfulness</th>\n      <th id=\"T_bde18_level0_col8\" class=\"col_heading level0 col8\" >context_recall</th>\n      <th id=\"T_bde18_level0_col9\" class=\"col_heading level0 col9\" >context_precision</th>\n      <th id=\"T_bde18_level0_col10\" class=\"col_heading level0 col10\" >time</th>\n    </tr>\n  </thead>\n  <tbody>\n    <tr>\n      <th id=\"T_bde18_level0_row0\" class=\"row_heading level0 row0\" >0</th>\n      <td id=\"T_bde18_row0_col0\" class=\"data row0 col0\" >deployment_name</td>\n      <td id=\"T_bde18_row0_col1\" class=\"data row0 col1\" >gpt-4.1</td>\n      <td id=\"T_bde18_row0_col2\" class=\"data row0 col2\" >nan</td>\n      <td id=\"T_bde18_row0_col3\" class=\"data row0 col3\" >nan</td>\n      <td id=\"T_bde18_row0_col4\" class=\"data row0 col4\" >nan</td>\n      <td id=\"T_bde18_row0_col5\" class=\"data row0 col5\" >nan</td>\n      <td id=\"T_bde18_row0_col6\" class=\"data row0 col6\" >0.592527</td>\n      <td id=\"T_bde18_row0_col7\" class=\"data row0 col7\" >0.746050</td>\n      <td id=\"T_bde18_row0_col8\" class=\"data row0 col8\" >0.485665</td>\n      <td id=\"T_bde18_row0_col9\" class=\"data row0 col9\" >0.392342</td>\n      <td id=\"T_bde18_row0_col10\" class=\"data row0 col10\" >10.517602</td>\n    </tr>\n    <tr>\n      <th id=\"T_bde18_level0_row1\" class=\"row_heading level0 row1\" >1</th>\n      <td id=\"T_bde18_row1_col0\" class=\"data row1 col0\" >deployment_name</td>\n      <td id=\"T_bde18_row1_col1\" class=\"data row1 col1\" >gpt-4o</td>\n      <td id=\"T_bde18_row1_col2\" class=\"data row1 col2\" >nan</td>\n      <td id=\"T_bde18_row1_col3\" class=\"data row1 col3\" >nan</td>\n      <td id=\"T_bde18_row1_col4\" class=\"data row1 col4\" >nan</td>\n      <td id=\"T_bde18_row1_col5\" class=\"data row1 col5\" >nan</td>\n      <td id=\"T_bde18_row1_col6\" class=\"data row1 col6\" >0.533383</td>\n      <td id=\"T_bde18_row1_col7\" class=\"data row1 col7\" >0.653075</td>\n      <td id=\"T_bde18_row1_col8\" class=\"data row1 col8\" >0.463907</td>\n      <td id=\"T_bde18_row1_col9\" class=\"data row1 col9\" >0.363477</td>\n      <td id=\"T_bde18_row1_col10\" class=\"data row1 col10\" >6.079889</td>\n    </tr>\n    <tr>\n      <th id=\"T_bde18_level0_row2\" class=\"row_heading level0 row2\" >2</th>\n      <td id=\"T_bde18_row2_col0\" class=\"data row2 col0\" >embedding_model</td>\n      <td id=\"T_bde18_row2_col1\" class=\"data row2 col1\" >nan</td>\n      <td id=\"T_bde18_row2_col2\" class=\"data row2 col2\" >multilingual-e5-small</td>\n      <td id=\"T_bde18_row2_col3\" class=\"data row2 col3\" >nan</td>\n      <td id=\"T_bde18_row2_col4\" class=\"data row2 col4\" >nan</td>\n      <td id=\"T_bde18_row2_col5\" class=\"data row2 col5\" >nan</td>\n      <td id=\"T_bde18_row2_col6\" class=\"data row2 col6\" >0.561263</td>\n      <td id=\"T_bde18_row2_col7\" class=\"data row2 col7\" >0.702051</td>\n      <td id=\"T_bde18_row2_col8\" class=\"data row2 col8\" >0.467823</td>\n      <td id=\"T_bde18_row2_col9\" class=\"data row2 col9\" >0.373129</td>\n      <td id=\"T_bde18_row2_col10\" class=\"data row2 col10\" >7.568498</td>\n    </tr>\n    <tr>\n      <th id=\"T_bde18_level0_row3\" class=\"row_heading level0 row3\" >3</th>\n      <td id=\"T_bde18_row3_col0\" class=\"data row3 col0\" >embedding_model</td>\n      <td id=\"T_bde18_row3_col1\" class=\"data row3 col1\" >nan</td>\n      <td id=\"T_bde18_row3_col2\" class=\"data row3 col2\" >text-embedding-3-large</td>\n      <td id=\"T_bde18_row3_col3\" class=\"data row3 col3\" >nan</td>\n      <td id=\"T_bde18_row3_col4\" class=\"data row3 col4\" >nan</td>\n      <td id=\"T_bde18_row3_col5\" class=\"data row3 col5\" >nan</td>\n      <td id=\"T_bde18_row3_col6\" class=\"data row3 col6\" >0.578668</td>\n      <td id=\"T_bde18_row3_col7\" class=\"data row3 col7\" >0.709173</td>\n      <td id=\"T_bde18_row3_col8\" class=\"data row3 col8\" >0.484987</td>\n      <td id=\"T_bde18_row3_col9\" class=\"data row3 col9\" >0.411340</td>\n      <td id=\"T_bde18_row3_col10\" class=\"data row3 col10\" >9.224458</td>\n    </tr>\n    <tr>\n      <th id=\"T_bde18_level0_row4\" class=\"row_heading level0 row4\" >4</th>\n      <td id=\"T_bde18_row4_col0\" class=\"data row4 col0\" >embedding_model</td>\n      <td id=\"T_bde18_row4_col1\" class=\"data row4 col1\" >nan</td>\n      <td id=\"T_bde18_row4_col2\" class=\"data row4 col2\" >text-embedding-ada-002</td>\n      <td id=\"T_bde18_row4_col3\" class=\"data row4 col3\" >nan</td>\n      <td id=\"T_bde18_row4_col4\" class=\"data row4 col4\" >nan</td>\n      <td id=\"T_bde18_row4_col5\" class=\"data row4 col5\" >nan</td>\n      <td id=\"T_bde18_row4_col6\" class=\"data row4 col6\" >0.548934</td>\n      <td id=\"T_bde18_row4_col7\" class=\"data row4 col7\" >0.687464</td>\n      <td id=\"T_bde18_row4_col8\" class=\"data row4 col8\" >0.471547</td>\n      <td id=\"T_bde18_row4_col9\" class=\"data row4 col9\" >0.349261</td>\n      <td id=\"T_bde18_row4_col10\" class=\"data row4 col10\" >8.103281</td>\n    </tr>\n    <tr>\n      <th id=\"T_bde18_level0_row5\" class=\"row_heading level0 row5\" >5</th>\n      <td id=\"T_bde18_row5_col0\" class=\"data row5 col0\" >search_algorithm</td>\n      <td id=\"T_bde18_row5_col1\" class=\"data row5 col1\" >nan</td>\n      <td id=\"T_bde18_row5_col2\" class=\"data row5 col2\" >nan</td>\n      <td id=\"T_bde18_row5_col3\" class=\"data row5 col3\" >HNSW</td>\n      <td id=\"T_bde18_row5_col4\" class=\"data row5 col4\" >nan</td>\n      <td id=\"T_bde18_row5_col5\" class=\"data row5 col5\" >nan</td>\n      <td id=\"T_bde18_row5_col6\" class=\"data row5 col6\" >0.560439</td>\n      <td id=\"T_bde18_row5_col7\" class=\"data row5 col7\" >0.689210</td>\n      <td id=\"T_bde18_row5_col8\" class=\"data row5 col8\" >0.474465</td>\n      <td id=\"T_bde18_row5_col9\" class=\"data row5 col9\" >0.388870</td>\n      <td id=\"T_bde18_row5_col10\" class=\"data row5 col10\" >8.261583</td>\n    </tr>\n    <tr>\n      <th id=\"T_bde18_level0_row6\" class=\"row_heading level0 row6\" >6</th>\n      <td id=\"T_bde18_row6_col0\" class=\"data row6 col0\" >search_algorithm</td>\n      <td id=\"T_bde18_row6_col1\" class=\"data row6 col1\" >nan</td>\n      <td id=\"T_bde18_row6_col2\" class=\"data row6 col2\" >nan</td>\n      <td id=\"T_bde18_row6_col3\" class=\"data row6 col3\" >KNN</td>\n      <td id=\"T_bde18_row6_col4\" class=\"data row6 col4\" >nan</td>\n      <td id=\"T_bde18_row6_col5\" class=\"data row6 col5\" >nan</td>\n      <td id=\"T_bde18_row6_col6\" class=\"data row6 col6\" >0.565472</td>\n      <td id=\"T_bde18_row6_col7\" class=\"data row6 col7\" >0.709915</td>\n      <td id=\"T_bde18_row6_col8\" class=\"data row6 col8\" >0.475107</td>\n      <td id=\"T_bde18_row6_col9\" class=\"data row6 col9\" >0.366949</td>\n      <td id=\"T_bde18_row6_col10\" class=\"data row6 col10\" >8.335908</td>\n    </tr>\n    <tr>\n      <th id=\"T_bde18_level0_row7\" class=\"row_heading level0 row7\" >7</th>\n      <td id=\"T_bde18_row7_col0\" class=\"data row7 col0\" >agentic_rerank</td>\n      <td id=\"T_bde18_row7_col1\" class=\"data row7 col1\" >nan</td>\n      <td id=\"T_bde18_row7_col2\" class=\"data row7 col2\" >nan</td>\n      <td id=\"T_bde18_row7_col3\" class=\"data row7 col3\" >nan</td>\n      <td id=\"T_bde18_row7_col4\" class=\"data row7 col4\" >False</td>\n      <td id=\"T_bde18_row7_col5\" class=\"data row7 col5\" >False</td>\n      <td id=\"T_bde18_row7_col6\" class=\"data row7 col6\" >0.583253</td>\n      <td id=\"T_bde18_row7_col7\" class=\"data row7 col7\" >0.705735</td>\n      <td id=\"T_bde18_row7_col8\" class=\"data row7 col8\" >0.481294</td>\n      <td id=\"T_bde18_row7_col9\" class=\"data row7 col9\" >0.440247</td>\n      <td id=\"T_bde18_row7_col10\" class=\"data row7 col10\" >4.956362</td>\n    </tr>\n    <tr>\n      <th id=\"T_bde18_level0_row8\" class=\"row_heading level0 row8\" >8</th>\n      <td id=\"T_bde18_row8_col0\" class=\"data row8 col0\" >agentic_rerank</td>\n      <td id=\"T_bde18_row8_col1\" class=\"data row8 col1\" >nan</td>\n      <td id=\"T_bde18_row8_col2\" class=\"data row8 col2\" >nan</td>\n      <td id=\"T_bde18_row8_col3\" class=\"data row8 col3\" >nan</td>\n      <td id=\"T_bde18_row8_col4\" class=\"data row8 col4\" >True</td>\n      <td id=\"T_bde18_row8_col5\" class=\"data row8 col5\" >False</td>\n      <td id=\"T_bde18_row8_col6\" class=\"data row8 col6\" >0.543633</td>\n      <td id=\"T_bde18_row8_col7\" class=\"data row8 col7\" >0.693489</td>\n      <td id=\"T_bde18_row8_col8\" class=\"data row8 col8\" >0.451211</td>\n      <td id=\"T_bde18_row8_col9\" class=\"data row8 col9\" >0.336345</td>\n      <td id=\"T_bde18_row8_col10\" class=\"data row8 col10\" >9.471422</td>\n    </tr>\n    <tr>\n      <th id=\"T_bde18_level0_row9\" class=\"row_heading level0 row9\" >9</th>\n      <td id=\"T_bde18_row9_col0\" class=\"data row9 col0\" >agentic_rerank</td>\n      <td id=\"T_bde18_row9_col1\" class=\"data row9 col1\" >nan</td>\n      <td id=\"T_bde18_row9_col2\" class=\"data row9 col2\" >nan</td>\n      <td id=\"T_bde18_row9_col3\" class=\"data row9 col3\" >nan</td>\n      <td id=\"T_bde18_row9_col4\" class=\"data row9 col4\" >True</td>\n      <td id=\"T_bde18_row9_col5\" class=\"data row9 col5\" >True</td>\n      <td id=\"T_bde18_row9_col6\" class=\"data row9 col6\" >0.561979</td>\n      <td id=\"T_bde18_row9_col7\" class=\"data row9 col7\" >0.699464</td>\n      <td id=\"T_bde18_row9_col8\" class=\"data row9 col8\" >0.491853</td>\n      <td id=\"T_bde18_row9_col9\" class=\"data row9 col9\" >0.357137</td>\n      <td id=\"T_bde18_row9_col10\" class=\"data row9 col10\" >10.468453</td>\n    </tr>\n  </tbody>\n</table>\n"
          },
          "metadata": {}
        }
      ],
      "execution_count": 14,
      "metadata": {
        "gather": {
          "logged": 1752498425336
        }
      }
    },
    {
      "cell_type": "code",
      "source": [
        "#ROUGE metrics grouped by model configurations\n",
        "df_grouped_model = df_merged_rouge[[\"deployment_name\",\"embedding_model\", \"search_algorithm\", \"agentic_retrieval\", \"reranking\", 'rouge1_fmeasure', 'rouge1_precision', 'rouge1_recall',  'rougeL_fmeasure',\n",
        "           'rougeL_precision', 'rougeL_recall']].groupby([\"deployment_name\",\"embedding_model\", \"search_algorithm\", \"agentic_retrieval\", \"reranking\"]).mean().reset_index()\n",
        "df_grouped_model.sort_values(by='rouge1_fmeasure', inplace=True, ascending=False)\n",
        "\n",
        "df_grouped_model.style.background_gradient(\n",
        "    subset= ['rouge1_fmeasure', 'rouge1_precision', 'rouge1_recall', 'rougeL_fmeasure', 'rougeL_precision', 'rougeL_recall'],\n",
        "    cmap=sns.color_palette(\"crest_r\", as_cmap=True)\n",
        ")"
      ],
      "outputs": [
        {
          "output_type": "execute_result",
          "execution_count": 162,
          "data": {
            "text/plain": "<pandas.io.formats.style.Styler at 0x73744a80ded0>",
            "text/html": "<style type=\"text/css\">\n#T_6ba92_row0_col5, #T_6ba92_row1_col6, #T_6ba92_row3_col8, #T_6ba92_row3_col9, #T_6ba92_row35_col7, #T_6ba92_row35_col10 {\n  background-color: #a5cd90;\n  color: #000000;\n}\n#T_6ba92_row0_col6, #T_6ba92_row30_col10 {\n  background-color: #9fca91;\n  color: #000000;\n}\n#T_6ba92_row0_col7, #T_6ba92_row17_col10, #T_6ba92_row34_col6 {\n  background-color: #2a3f78;\n  color: #f1f1f1;\n}\n#T_6ba92_row0_col8, #T_6ba92_row7_col9 {\n  background-color: #82bc91;\n  color: #000000;\n}\n#T_6ba92_row0_col9, #T_6ba92_row25_col7 {\n  background-color: #93c491;\n  color: #000000;\n}\n#T_6ba92_row0_col10, #T_6ba92_row23_col10 {\n  background-color: #2c3574;\n  color: #f1f1f1;\n}\n#T_6ba92_row1_col5, #T_6ba92_row1_col9, #T_6ba92_row23_col9, #T_6ba92_row31_col7 {\n  background-color: #9dc991;\n  color: #000000;\n}\n#T_6ba92_row1_col7 {\n  background-color: #2b3774;\n  color: #f1f1f1;\n}\n#T_6ba92_row1_col8, #T_6ba92_row33_col10 {\n  background-color: #85bd91;\n  color: #000000;\n}\n#T_6ba92_row1_col10 {\n  background-color: #2c3573;\n  color: #f1f1f1;\n}\n#T_6ba92_row2_col5, #T_6ba92_row26_col7 {\n  background-color: #99c791;\n  color: #000000;\n}\n#T_6ba92_row2_col6 {\n  background-color: #90c391;\n  color: #000000;\n}\n#T_6ba92_row2_col7, #T_6ba92_row26_col9 {\n  background-color: #29417a;\n  color: #f1f1f1;\n}\n#T_6ba92_row2_col8 {\n  background-color: #80bb91;\n  color: #000000;\n}\n#T_6ba92_row2_col9 {\n  background-color: #86be91;\n  color: #000000;\n}\n#T_6ba92_row2_col10 {\n  background-color: #2b3b76;\n  color: #f1f1f1;\n}\n#T_6ba92_row3_col5, #T_6ba92_row27_col7 {\n  background-color: #94c591;\n  color: #000000;\n}\n#T_6ba92_row3_col6, #T_6ba92_row34_col10 {\n  background-color: #a2cb91;\n  color: #000000;\n}\n#T_6ba92_row3_col7 {\n  background-color: #2b3875;\n  color: #f1f1f1;\n}\n#T_6ba92_row3_col10, #T_6ba92_row8_col7, #T_6ba92_row10_col10, #T_6ba92_row18_col7, #T_6ba92_row18_col10, #T_6ba92_row31_col9 {\n  background-color: #294079;\n  color: #f1f1f1;\n}\n#T_6ba92_row4_col5 {\n  background-color: #8ec291;\n  color: #000000;\n}\n#T_6ba92_row4_col6, #T_6ba92_row34_col7 {\n  background-color: #9bc891;\n  color: #000000;\n}\n#T_6ba92_row4_col7 {\n  background-color: #2b3674;\n  color: #f1f1f1;\n}\n#T_6ba92_row4_col8, #T_6ba92_row14_col9 {\n  background-color: #6eb290;\n  color: #f1f1f1;\n}\n#T_6ba92_row4_col9 {\n  background-color: #95c591;\n  color: #000000;\n}\n#T_6ba92_row4_col10, #T_6ba92_row23_col7, #T_6ba92_row35_col5, #T_6ba92_row35_col6, #T_6ba92_row35_col8, #T_6ba92_row35_col9 {\n  background-color: #2c3172;\n  color: #f1f1f1;\n}\n#T_6ba92_row5_col5, #T_6ba92_row13_col9 {\n  background-color: #72b490;\n  color: #f1f1f1;\n}\n#T_6ba92_row5_col6, #T_6ba92_row15_col7 {\n  background-color: #57a490;\n  color: #f1f1f1;\n}\n#T_6ba92_row5_col7, #T_6ba92_row32_col5 {\n  background-color: #1d6187;\n  color: #f1f1f1;\n}\n#T_6ba92_row5_col8, #T_6ba92_row8_col6 {\n  background-color: #74b690;\n  color: #f1f1f1;\n}\n#T_6ba92_row5_col9 {\n  background-color: #55a290;\n  color: #f1f1f1;\n}\n#T_6ba92_row5_col10 {\n  background-color: #1d6188;\n  color: #f1f1f1;\n}\n#T_6ba92_row6_col5, #T_6ba92_row22_col9 {\n  background-color: #6db290;\n  color: #f1f1f1;\n}\n#T_6ba92_row6_col6, #T_6ba92_row19_col7, #T_6ba92_row20_col7 {\n  background-color: #7cb991;\n  color: #000000;\n}\n#T_6ba92_row6_col7 {\n  background-color: #28427a;\n  color: #f1f1f1;\n}\n#T_6ba92_row6_col8, #T_6ba92_row8_col5 {\n  background-color: #5ca890;\n  color: #f1f1f1;\n}\n#T_6ba92_row6_col9 {\n  background-color: #77b791;\n  color: #f1f1f1;\n}\n#T_6ba92_row6_col10 {\n  background-color: #2a3e78;\n  color: #f1f1f1;\n}\n#T_6ba92_row7_col5 {\n  background-color: #5fa990;\n  color: #f1f1f1;\n}\n#T_6ba92_row7_col6, #T_6ba92_row25_col10 {\n  background-color: #79b891;\n  color: #f1f1f1;\n}\n#T_6ba92_row7_col7, #T_6ba92_row32_col6 {\n  background-color: #26487e;\n  color: #f1f1f1;\n}\n#T_6ba92_row7_col8, #T_6ba92_row15_col10 {\n  background-color: #53a190;\n  color: #f1f1f1;\n}\n#T_6ba92_row7_col10, #T_6ba92_row29_col9, #T_6ba92_row31_col6 {\n  background-color: #28447b;\n  color: #f1f1f1;\n}\n#T_6ba92_row8_col8 {\n  background-color: #519f90;\n  color: #f1f1f1;\n}\n#T_6ba92_row8_col9, #T_6ba92_row18_col9 {\n  background-color: #6fb390;\n  color: #f1f1f1;\n}\n#T_6ba92_row8_col10, #T_6ba92_row17_col7, #T_6ba92_row22_col10, #T_6ba92_row34_col9 {\n  background-color: #2a3d78;\n  color: #f1f1f1;\n}\n#T_6ba92_row9_col5, #T_6ba92_row9_col10 {\n  background-color: #54a290;\n  color: #f1f1f1;\n}\n#T_6ba92_row9_col6, #T_6ba92_row30_col5 {\n  background-color: #1d6c8a;\n  color: #f1f1f1;\n}\n#T_6ba92_row9_col7, #T_6ba92_row21_col10 {\n  background-color: #59a590;\n  color: #f1f1f1;\n}\n#T_6ba92_row9_col8 {\n  background-color: #36878d;\n  color: #f1f1f1;\n}\n#T_6ba92_row9_col9, #T_6ba92_row20_col8 {\n  background-color: #1d6388;\n  color: #f1f1f1;\n}\n#T_6ba92_row10_col5 {\n  background-color: #4e9d90;\n  color: #f1f1f1;\n}\n#T_6ba92_row10_col6, #T_6ba92_row13_col6 {\n  background-color: #76b791;\n  color: #f1f1f1;\n}\n#T_6ba92_row10_col7, #T_6ba92_row14_col10 {\n  background-color: #27477d;\n  color: #f1f1f1;\n}\n#T_6ba92_row10_col8 {\n  background-color: #3e8e8e;\n  color: #f1f1f1;\n}\n#T_6ba92_row10_col9 {\n  background-color: #75b690;\n  color: #f1f1f1;\n}\n#T_6ba92_row11_col5 {\n  background-color: #4c9b90;\n  color: #f1f1f1;\n}\n#T_6ba92_row11_col6 {\n  background-color: #63ac90;\n  color: #f1f1f1;\n}\n#T_6ba92_row11_col7 {\n  background-color: #225182;\n  color: #f1f1f1;\n}\n#T_6ba92_row11_col8, #T_6ba92_row13_col5 {\n  background-color: #48988f;\n  color: #f1f1f1;\n}\n#T_6ba92_row11_col9, #T_6ba92_row19_col10 {\n  background-color: #65ad90;\n  color: #f1f1f1;\n}\n#T_6ba92_row11_col10 {\n  background-color: #225282;\n  color: #f1f1f1;\n}\n#T_6ba92_row12_col5 {\n  background-color: #49998f;\n  color: #f1f1f1;\n}\n#T_6ba92_row12_col6 {\n  background-color: #5ba690;\n  color: #f1f1f1;\n}\n#T_6ba92_row12_col7 {\n  background-color: #215584;\n  color: #f1f1f1;\n}\n#T_6ba92_row12_col8 {\n  background-color: #33858d;\n  color: #f1f1f1;\n}\n#T_6ba92_row12_col9 {\n  background-color: #4f9e90;\n  color: #f1f1f1;\n}\n#T_6ba92_row12_col10, #T_6ba92_row24_col6 {\n  background-color: #235081;\n  color: #f1f1f1;\n}\n#T_6ba92_row13_col7 {\n  background-color: #29427a;\n  color: #f1f1f1;\n}\n#T_6ba92_row13_col8, #T_6ba92_row20_col5 {\n  background-color: #3c8d8e;\n  color: #f1f1f1;\n}\n#T_6ba92_row13_col10, #T_6ba92_row22_col7 {\n  background-color: #2a3d77;\n  color: #f1f1f1;\n}\n#T_6ba92_row14_col5 {\n  background-color: #47978f;\n  color: #f1f1f1;\n}\n#T_6ba92_row14_col6 {\n  background-color: #6ab090;\n  color: #f1f1f1;\n}\n#T_6ba92_row14_col7, #T_6ba92_row26_col6, #T_6ba92_row30_col6, #T_6ba92_row33_col6 {\n  background-color: #26497e;\n  color: #f1f1f1;\n}\n#T_6ba92_row14_col8 {\n  background-color: #4a9a8f;\n  color: #f1f1f1;\n}\n#T_6ba92_row15_col5 {\n  background-color: #45958f;\n  color: #f1f1f1;\n}\n#T_6ba92_row15_col6, #T_6ba92_row27_col8 {\n  background-color: #1d6a8a;\n  color: #f1f1f1;\n}\n#T_6ba92_row15_col8 {\n  background-color: #2f818d;\n  color: #f1f1f1;\n}\n#T_6ba92_row15_col9 {\n  background-color: #1d6087;\n  color: #f1f1f1;\n}\n#T_6ba92_row16_col5 {\n  background-color: #44948f;\n  color: #f1f1f1;\n}\n#T_6ba92_row16_col6, #T_6ba92_row29_col5 {\n  background-color: #1e6d8a;\n  color: #f1f1f1;\n}\n#T_6ba92_row16_col7, #T_6ba92_row17_col9 {\n  background-color: #68af90;\n  color: #f1f1f1;\n}\n#T_6ba92_row16_col8, #T_6ba92_row25_col5 {\n  background-color: #297b8c;\n  color: #f1f1f1;\n}\n#T_6ba92_row16_col9 {\n  background-color: #1c6488;\n  color: #f1f1f1;\n}\n#T_6ba92_row16_col10 {\n  background-color: #60aa90;\n  color: #f1f1f1;\n}\n#T_6ba92_row17_col5, #T_6ba92_row18_col5 {\n  background-color: #43938f;\n  color: #f1f1f1;\n}\n#T_6ba92_row17_col6 {\n  background-color: #6bb190;\n  color: #f1f1f1;\n}\n#T_6ba92_row17_col8 {\n  background-color: #42928f;\n  color: #f1f1f1;\n}\n#T_6ba92_row18_col6 {\n  background-color: #73b590;\n  color: #f1f1f1;\n}\n#T_6ba92_row18_col8 {\n  background-color: #3e8f8e;\n  color: #f1f1f1;\n}\n#T_6ba92_row19_col5 {\n  background-color: #41918f;\n  color: #f1f1f1;\n}\n#T_6ba92_row19_col6, #T_6ba92_row26_col8 {\n  background-color: #1e5d86;\n  color: #f1f1f1;\n}\n#T_6ba92_row19_col8 {\n  background-color: #1c6889;\n  color: #f1f1f1;\n}\n#T_6ba92_row19_col9, #T_6ba92_row25_col6 {\n  background-color: #244e81;\n  color: #f1f1f1;\n}\n#T_6ba92_row20_col6 {\n  background-color: #1f5985;\n  color: #f1f1f1;\n}\n#T_6ba92_row20_col9, #T_6ba92_row28_col9 {\n  background-color: #254a7f;\n  color: #f1f1f1;\n}\n#T_6ba92_row20_col10 {\n  background-color: #61aa90;\n  color: #f1f1f1;\n}\n#T_6ba92_row21_col5, #T_6ba92_row22_col8 {\n  background-color: #3b8c8e;\n  color: #f1f1f1;\n}\n#T_6ba92_row21_col6 {\n  background-color: #1c6689;\n  color: #f1f1f1;\n}\n#T_6ba92_row21_col7 {\n  background-color: #62ab90;\n  color: #f1f1f1;\n}\n#T_6ba92_row21_col8 {\n  background-color: #1c6989;\n  color: #f1f1f1;\n}\n#T_6ba92_row21_col9 {\n  background-color: #1f5a85;\n  color: #f1f1f1;\n}\n#T_6ba92_row22_col5 {\n  background-color: #3a8b8e;\n  color: #f1f1f1;\n}\n#T_6ba92_row22_col6 {\n  background-color: #69b090;\n  color: #f1f1f1;\n}\n#T_6ba92_row23_col5, #T_6ba92_row24_col5 {\n  background-color: #2c7e8c;\n  color: #f1f1f1;\n}\n#T_6ba92_row23_col6 {\n  background-color: #84bd91;\n  color: #000000;\n}\n#T_6ba92_row23_col8 {\n  background-color: #40908e;\n  color: #f1f1f1;\n}\n#T_6ba92_row24_col7 {\n  background-color: #7fbb91;\n  color: #000000;\n}\n#T_6ba92_row24_col8, #T_6ba92_row28_col5 {\n  background-color: #20718b;\n  color: #f1f1f1;\n}\n#T_6ba92_row24_col9, #T_6ba92_row33_col9, #T_6ba92_row34_col8 {\n  background-color: #244d80;\n  color: #f1f1f1;\n}\n#T_6ba92_row24_col10 {\n  background-color: #78b891;\n  color: #f1f1f1;\n}\n#T_6ba92_row25_col8 {\n  background-color: #1e5e87;\n  color: #f1f1f1;\n}\n#T_6ba92_row25_col9, #T_6ba92_row30_col9 {\n  background-color: #27467c;\n  color: #f1f1f1;\n}\n#T_6ba92_row26_col5 {\n  background-color: #277a8c;\n  color: #f1f1f1;\n}\n#T_6ba92_row26_col10, #T_6ba92_row32_col7, #T_6ba92_row32_col10 {\n  background-color: #89bf91;\n  color: #000000;\n}\n#T_6ba92_row27_col5 {\n  background-color: #23758b;\n  color: #f1f1f1;\n}\n#T_6ba92_row27_col6, #T_6ba92_row32_col8, #T_6ba92_row34_col5 {\n  background-color: #225283;\n  color: #f1f1f1;\n}\n#T_6ba92_row27_col9 {\n  background-color: #244e80;\n  color: #f1f1f1;\n}\n#T_6ba92_row27_col10 {\n  background-color: #8dc191;\n  color: #000000;\n}\n#T_6ba92_row28_col6 {\n  background-color: #234f81;\n  color: #f1f1f1;\n}\n#T_6ba92_row28_col7 {\n  background-color: #88bf91;\n  color: #000000;\n}\n#T_6ba92_row28_col8 {\n  background-color: #1c6789;\n  color: #f1f1f1;\n}\n#T_6ba92_row28_col10 {\n  background-color: #8ac091;\n  color: #000000;\n}\n#T_6ba92_row29_col6 {\n  background-color: #254b7f;\n  color: #f1f1f1;\n}\n#T_6ba92_row29_col7 {\n  background-color: #a4cc90;\n  color: #000000;\n}\n#T_6ba92_row29_col8 {\n  background-color: #205885;\n  color: #f1f1f1;\n}\n#T_6ba92_row29_col10 {\n  background-color: #98c691;\n  color: #000000;\n}\n#T_6ba92_row30_col7 {\n  background-color: #9cc891;\n  color: #000000;\n}\n#T_6ba92_row30_col8 {\n  background-color: #1c6589;\n  color: #f1f1f1;\n}\n#T_6ba92_row31_col5 {\n  background-color: #1c6388;\n  color: #f1f1f1;\n}\n#T_6ba92_row31_col8 {\n  background-color: #235082;\n  color: #f1f1f1;\n}\n#T_6ba92_row31_col10 {\n  background-color: #8bc191;\n  color: #000000;\n}\n#T_6ba92_row32_col9 {\n  background-color: #28437b;\n  color: #f1f1f1;\n}\n#T_6ba92_row33_col5 {\n  background-color: #1e5c86;\n  color: #f1f1f1;\n}\n#T_6ba92_row33_col7 {\n  background-color: #87be91;\n  color: #000000;\n}\n#T_6ba92_row33_col8 {\n  background-color: #1d5f87;\n  color: #f1f1f1;\n}\n</style>\n<table id=\"T_6ba92\">\n  <thead>\n    <tr>\n      <th class=\"blank level0\" >&nbsp;</th>\n      <th id=\"T_6ba92_level0_col0\" class=\"col_heading level0 col0\" >deployment_name</th>\n      <th id=\"T_6ba92_level0_col1\" class=\"col_heading level0 col1\" >embedding_model</th>\n      <th id=\"T_6ba92_level0_col2\" class=\"col_heading level0 col2\" >search_algorithm</th>\n      <th id=\"T_6ba92_level0_col3\" class=\"col_heading level0 col3\" >agentic_retrieval</th>\n      <th id=\"T_6ba92_level0_col4\" class=\"col_heading level0 col4\" >reranking</th>\n      <th id=\"T_6ba92_level0_col5\" class=\"col_heading level0 col5\" >rouge1_fmeasure</th>\n      <th id=\"T_6ba92_level0_col6\" class=\"col_heading level0 col6\" >rouge1_precision</th>\n      <th id=\"T_6ba92_level0_col7\" class=\"col_heading level0 col7\" >rouge1_recall</th>\n      <th id=\"T_6ba92_level0_col8\" class=\"col_heading level0 col8\" >rougeL_fmeasure</th>\n      <th id=\"T_6ba92_level0_col9\" class=\"col_heading level0 col9\" >rougeL_precision</th>\n      <th id=\"T_6ba92_level0_col10\" class=\"col_heading level0 col10\" >rougeL_recall</th>\n    </tr>\n  </thead>\n  <tbody>\n    <tr>\n      <th id=\"T_6ba92_level0_row0\" class=\"row_heading level0 row0\" >21</th>\n      <td id=\"T_6ba92_row0_col0\" class=\"data row0 col0\" >gpt-4o</td>\n      <td id=\"T_6ba92_row0_col1\" class=\"data row0 col1\" >multilingual-e5-small</td>\n      <td id=\"T_6ba92_row0_col2\" class=\"data row0 col2\" >KNN</td>\n      <td id=\"T_6ba92_row0_col3\" class=\"data row0 col3\" >False</td>\n      <td id=\"T_6ba92_row0_col4\" class=\"data row0 col4\" >False</td>\n      <td id=\"T_6ba92_row0_col5\" class=\"data row0 col5\" >0.308185</td>\n      <td id=\"T_6ba92_row0_col6\" class=\"data row0 col6\" >0.326965</td>\n      <td id=\"T_6ba92_row0_col7\" class=\"data row0 col7\" >0.356548</td>\n      <td id=\"T_6ba92_row0_col8\" class=\"data row0 col8\" >0.164253</td>\n      <td id=\"T_6ba92_row0_col9\" class=\"data row0 col9\" >0.173713</td>\n      <td id=\"T_6ba92_row0_col10\" class=\"data row0 col10\" >0.194863</td>\n    </tr>\n    <tr>\n      <th id=\"T_6ba92_level0_row1\" class=\"row_heading level0 row1\" >18</th>\n      <td id=\"T_6ba92_row1_col0\" class=\"data row1 col0\" >gpt-4o</td>\n      <td id=\"T_6ba92_row1_col1\" class=\"data row1 col1\" >multilingual-e5-small</td>\n      <td id=\"T_6ba92_row1_col2\" class=\"data row1 col2\" >HNSW</td>\n      <td id=\"T_6ba92_row1_col3\" class=\"data row1 col3\" >False</td>\n      <td id=\"T_6ba92_row1_col4\" class=\"data row1 col4\" >False</td>\n      <td id=\"T_6ba92_row1_col5\" class=\"data row1 col5\" >0.306566</td>\n      <td id=\"T_6ba92_row1_col6\" class=\"data row1 col6\" >0.329769</td>\n      <td id=\"T_6ba92_row1_col7\" class=\"data row1 col7\" >0.347940</td>\n      <td id=\"T_6ba92_row1_col8\" class=\"data row1 col8\" >0.164581</td>\n      <td id=\"T_6ba92_row1_col9\" class=\"data row1 col9\" >0.176458</td>\n      <td id=\"T_6ba92_row1_col10\" class=\"data row1 col10\" >0.194038</td>\n    </tr>\n    <tr>\n      <th id=\"T_6ba92_level0_row2\" class=\"row_heading level0 row2\" >24</th>\n      <td id=\"T_6ba92_row2_col0\" class=\"data row2 col0\" >gpt-4o</td>\n      <td id=\"T_6ba92_row2_col1\" class=\"data row2 col1\" >text-embedding-3-large</td>\n      <td id=\"T_6ba92_row2_col2\" class=\"data row2 col2\" >HNSW</td>\n      <td id=\"T_6ba92_row2_col3\" class=\"data row2 col3\" >False</td>\n      <td id=\"T_6ba92_row2_col4\" class=\"data row2 col4\" >False</td>\n      <td id=\"T_6ba92_row2_col5\" class=\"data row2 col5\" >0.305784</td>\n      <td id=\"T_6ba92_row2_col6\" class=\"data row2 col6\" >0.319201</td>\n      <td id=\"T_6ba92_row2_col7\" class=\"data row2 col7\" >0.359165</td>\n      <td id=\"T_6ba92_row2_col8\" class=\"data row2 col8\" >0.164123</td>\n      <td id=\"T_6ba92_row2_col9\" class=\"data row2 col9\" >0.170001</td>\n      <td id=\"T_6ba92_row2_col10\" class=\"data row2 col10\" >0.197861</td>\n    </tr>\n    <tr>\n      <th id=\"T_6ba92_level0_row3\" class=\"row_heading level0 row3\" >30</th>\n      <td id=\"T_6ba92_row3_col0\" class=\"data row3 col0\" >gpt-4o</td>\n      <td id=\"T_6ba92_row3_col1\" class=\"data row3 col1\" >text-embedding-ada-002</td>\n      <td id=\"T_6ba92_row3_col2\" class=\"data row3 col2\" >HNSW</td>\n      <td id=\"T_6ba92_row3_col3\" class=\"data row3 col3\" >False</td>\n      <td id=\"T_6ba92_row3_col4\" class=\"data row3 col4\" >False</td>\n      <td id=\"T_6ba92_row3_col5\" class=\"data row3 col5\" >0.304838</td>\n      <td id=\"T_6ba92_row3_col6\" class=\"data row3 col6\" >0.327744</td>\n      <td id=\"T_6ba92_row3_col7\" class=\"data row3 col7\" >0.349064</td>\n      <td id=\"T_6ba92_row3_col8\" class=\"data row3 col8\" >0.168091</td>\n      <td id=\"T_6ba92_row3_col9\" class=\"data row3 col9\" >0.178681</td>\n      <td id=\"T_6ba92_row3_col10\" class=\"data row3 col10\" >0.201301</td>\n    </tr>\n    <tr>\n      <th id=\"T_6ba92_level0_row4\" class=\"row_heading level0 row4\" >33</th>\n      <td id=\"T_6ba92_row4_col0\" class=\"data row4 col0\" >gpt-4o</td>\n      <td id=\"T_6ba92_row4_col1\" class=\"data row4 col1\" >text-embedding-ada-002</td>\n      <td id=\"T_6ba92_row4_col2\" class=\"data row4 col2\" >KNN</td>\n      <td id=\"T_6ba92_row4_col3\" class=\"data row4 col3\" >False</td>\n      <td id=\"T_6ba92_row4_col4\" class=\"data row4 col4\" >False</td>\n      <td id=\"T_6ba92_row4_col5\" class=\"data row4 col5\" >0.303696</td>\n      <td id=\"T_6ba92_row4_col6\" class=\"data row4 col6\" >0.324870</td>\n      <td id=\"T_6ba92_row4_col7\" class=\"data row4 col7\" >0.347762</td>\n      <td id=\"T_6ba92_row4_col8\" class=\"data row4 col8\" >0.162044</td>\n      <td id=\"T_6ba92_row4_col9\" class=\"data row4 col9\" >0.174174</td>\n      <td id=\"T_6ba92_row4_col10\" class=\"data row4 col10\" >0.191712</td>\n    </tr>\n    <tr>\n      <th id=\"T_6ba92_level0_row5\" class=\"row_heading level0 row5\" >25</th>\n      <td id=\"T_6ba92_row5_col0\" class=\"data row5 col0\" >gpt-4o</td>\n      <td id=\"T_6ba92_row5_col1\" class=\"data row5 col1\" >text-embedding-3-large</td>\n      <td id=\"T_6ba92_row5_col2\" class=\"data row5 col2\" >HNSW</td>\n      <td id=\"T_6ba92_row5_col3\" class=\"data row5 col3\" >True</td>\n      <td id=\"T_6ba92_row5_col4\" class=\"data row5 col4\" >False</td>\n      <td id=\"T_6ba92_row5_col5\" class=\"data row5 col5\" >0.298374</td>\n      <td id=\"T_6ba92_row5_col6\" class=\"data row5 col6\" >0.288625</td>\n      <td id=\"T_6ba92_row5_col7\" class=\"data row5 col7\" >0.395693</td>\n      <td id=\"T_6ba92_row5_col8\" class=\"data row5 col8\" >0.162778</td>\n      <td id=\"T_6ba92_row5_col9\" class=\"data row5 col9\" >0.154955</td>\n      <td id=\"T_6ba92_row5_col10\" class=\"data row5 col10\" >0.224119</td>\n    </tr>\n    <tr>\n      <th id=\"T_6ba92_level0_row6\" class=\"row_heading level0 row6\" >27</th>\n      <td id=\"T_6ba92_row6_col0\" class=\"data row6 col0\" >gpt-4o</td>\n      <td id=\"T_6ba92_row6_col1\" class=\"data row6 col1\" >text-embedding-3-large</td>\n      <td id=\"T_6ba92_row6_col2\" class=\"data row6 col2\" >KNN</td>\n      <td id=\"T_6ba92_row6_col3\" class=\"data row6 col3\" >False</td>\n      <td id=\"T_6ba92_row6_col4\" class=\"data row6 col4\" >False</td>\n      <td id=\"T_6ba92_row6_col5\" class=\"data row6 col5\" >0.297344</td>\n      <td id=\"T_6ba92_row6_col6\" class=\"data row6 col6\" >0.309501</td>\n      <td id=\"T_6ba92_row6_col7\" class=\"data row6 col7\" >0.361192</td>\n      <td id=\"T_6ba92_row6_col8\" class=\"data row6 col8\" >0.159800</td>\n      <td id=\"T_6ba92_row6_col9\" class=\"data row6 col9\" >0.166046</td>\n      <td id=\"T_6ba92_row6_col10\" class=\"data row6 col10\" >0.200393</td>\n    </tr>\n    <tr>\n      <th id=\"T_6ba92_level0_row7\" class=\"row_heading level0 row7\" >20</th>\n      <td id=\"T_6ba92_row7_col0\" class=\"data row7 col0\" >gpt-4o</td>\n      <td id=\"T_6ba92_row7_col1\" class=\"data row7 col1\" >multilingual-e5-small</td>\n      <td id=\"T_6ba92_row7_col2\" class=\"data row7 col2\" >HNSW</td>\n      <td id=\"T_6ba92_row7_col3\" class=\"data row7 col3\" >True</td>\n      <td id=\"T_6ba92_row7_col4\" class=\"data row7 col4\" >True</td>\n      <td id=\"T_6ba92_row7_col5\" class=\"data row7 col5\" >0.294250</td>\n      <td id=\"T_6ba92_row7_col6\" class=\"data row7 col6\" >0.308524</td>\n      <td id=\"T_6ba92_row7_col7\" class=\"data row7 col7\" >0.366846</td>\n      <td id=\"T_6ba92_row7_col8\" class=\"data row7 col8\" >0.158264</td>\n      <td id=\"T_6ba92_row7_col9\" class=\"data row7 col9\" >0.169134</td>\n      <td id=\"T_6ba92_row7_col10\" class=\"data row7 col10\" >0.204222</td>\n    </tr>\n    <tr>\n      <th id=\"T_6ba92_level0_row8\" class=\"row_heading level0 row8\" >35</th>\n      <td id=\"T_6ba92_row8_col0\" class=\"data row8 col0\" >gpt-4o</td>\n      <td id=\"T_6ba92_row8_col1\" class=\"data row8 col1\" >text-embedding-ada-002</td>\n      <td id=\"T_6ba92_row8_col2\" class=\"data row8 col2\" >KNN</td>\n      <td id=\"T_6ba92_row8_col3\" class=\"data row8 col3\" >True</td>\n      <td id=\"T_6ba92_row8_col4\" class=\"data row8 col4\" >True</td>\n      <td id=\"T_6ba92_row8_col5\" class=\"data row8 col5\" >0.293478</td>\n      <td id=\"T_6ba92_row8_col6\" class=\"data row8 col6\" >0.305817</td>\n      <td id=\"T_6ba92_row8_col7\" class=\"data row8 col7\" >0.358879</td>\n      <td id=\"T_6ba92_row8_col8\" class=\"data row8 col8\" >0.158065</td>\n      <td id=\"T_6ba92_row8_col9\" class=\"data row8 col9\" >0.163674</td>\n      <td id=\"T_6ba92_row8_col10\" class=\"data row8 col10\" >0.199639</td>\n    </tr>\n    <tr>\n      <th id=\"T_6ba92_level0_row9\" class=\"row_heading level0 row9\" >12</th>\n      <td id=\"T_6ba92_row9_col0\" class=\"data row9 col0\" >gpt-4.1</td>\n      <td id=\"T_6ba92_row9_col1\" class=\"data row9 col1\" >text-embedding-ada-002</td>\n      <td id=\"T_6ba92_row9_col2\" class=\"data row9 col2\" >HNSW</td>\n      <td id=\"T_6ba92_row9_col3\" class=\"data row9 col3\" >False</td>\n      <td id=\"T_6ba92_row9_col4\" class=\"data row9 col4\" >False</td>\n      <td id=\"T_6ba92_row9_col5\" class=\"data row9 col5\" >0.291404</td>\n      <td id=\"T_6ba92_row9_col6\" class=\"data row9 col6\" >0.238615</td>\n      <td id=\"T_6ba92_row9_col7\" class=\"data row9 col7\" >0.484300</td>\n      <td id=\"T_6ba92_row9_col8\" class=\"data row9 col8\" >0.153145</td>\n      <td id=\"T_6ba92_row9_col9\" class=\"data row9 col9\" >0.122560</td>\n      <td id=\"T_6ba92_row9_col10\" class=\"data row9 col10\" >0.273465</td>\n    </tr>\n    <tr>\n      <th id=\"T_6ba92_level0_row10\" class=\"row_heading level0 row10\" >32</th>\n      <td id=\"T_6ba92_row10_col0\" class=\"data row10 col0\" >gpt-4o</td>\n      <td id=\"T_6ba92_row10_col1\" class=\"data row10 col1\" >text-embedding-ada-002</td>\n      <td id=\"T_6ba92_row10_col2\" class=\"data row10 col2\" >HNSW</td>\n      <td id=\"T_6ba92_row10_col3\" class=\"data row10 col3\" >True</td>\n      <td id=\"T_6ba92_row10_col4\" class=\"data row10 col4\" >True</td>\n      <td id=\"T_6ba92_row10_col5\" class=\"data row10 col5\" >0.289848</td>\n      <td id=\"T_6ba92_row10_col6\" class=\"data row10 col6\" >0.306666</td>\n      <td id=\"T_6ba92_row10_col7\" class=\"data row10 col7\" >0.366032</td>\n      <td id=\"T_6ba92_row10_col8\" class=\"data row10 col8\" >0.154624</td>\n      <td id=\"T_6ba92_row10_col9\" class=\"data row10 col9\" >0.165416</td>\n      <td id=\"T_6ba92_row10_col10\" class=\"data row10 col10\" >0.201795</td>\n    </tr>\n    <tr>\n      <th id=\"T_6ba92_level0_row11\" class=\"row_heading level0 row11\" >29</th>\n      <td id=\"T_6ba92_row11_col0\" class=\"data row11 col0\" >gpt-4o</td>\n      <td id=\"T_6ba92_row11_col1\" class=\"data row11 col1\" >text-embedding-3-large</td>\n      <td id=\"T_6ba92_row11_col2\" class=\"data row11 col2\" >KNN</td>\n      <td id=\"T_6ba92_row11_col3\" class=\"data row11 col3\" >True</td>\n      <td id=\"T_6ba92_row11_col4\" class=\"data row11 col4\" >True</td>\n      <td id=\"T_6ba92_row11_col5\" class=\"data row11 col5\" >0.289048</td>\n      <td id=\"T_6ba92_row11_col6\" class=\"data row11 col6\" >0.296803</td>\n      <td id=\"T_6ba92_row11_col7\" class=\"data row11 col7\" >0.377464</td>\n      <td id=\"T_6ba92_row11_col8\" class=\"data row11 col8\" >0.156474</td>\n      <td id=\"T_6ba92_row11_col9\" class=\"data row11 col9\" >0.160471</td>\n      <td id=\"T_6ba92_row11_col10\" class=\"data row11 col10\" >0.213150</td>\n    </tr>\n    <tr>\n      <th id=\"T_6ba92_level0_row12\" class=\"row_heading level0 row12\" >26</th>\n      <td id=\"T_6ba92_row12_col0\" class=\"data row12 col0\" >gpt-4o</td>\n      <td id=\"T_6ba92_row12_col1\" class=\"data row12 col1\" >text-embedding-3-large</td>\n      <td id=\"T_6ba92_row12_col2\" class=\"data row12 col2\" >HNSW</td>\n      <td id=\"T_6ba92_row12_col3\" class=\"data row12 col3\" >True</td>\n      <td id=\"T_6ba92_row12_col4\" class=\"data row12 col4\" >True</td>\n      <td id=\"T_6ba92_row12_col5\" class=\"data row12 col5\" >0.288354</td>\n      <td id=\"T_6ba92_row12_col6\" class=\"data row12 col6\" >0.291111</td>\n      <td id=\"T_6ba92_row12_col7\" class=\"data row12 col7\" >0.381834</td>\n      <td id=\"T_6ba92_row12_col8\" class=\"data row12 col8\" >0.152644</td>\n      <td id=\"T_6ba92_row12_col9\" class=\"data row12 col9\" >0.152548</td>\n      <td id=\"T_6ba92_row12_col10\" class=\"data row12 col10\" >0.212111</td>\n    </tr>\n    <tr>\n      <th id=\"T_6ba92_level0_row13\" class=\"row_heading level0 row13\" >34</th>\n      <td id=\"T_6ba92_row13_col0\" class=\"data row13 col0\" >gpt-4o</td>\n      <td id=\"T_6ba92_row13_col1\" class=\"data row13 col1\" >text-embedding-ada-002</td>\n      <td id=\"T_6ba92_row13_col2\" class=\"data row13 col2\" >KNN</td>\n      <td id=\"T_6ba92_row13_col3\" class=\"data row13 col3\" >True</td>\n      <td id=\"T_6ba92_row13_col4\" class=\"data row13 col4\" >False</td>\n      <td id=\"T_6ba92_row13_col5\" class=\"data row13 col5\" >0.287912</td>\n      <td id=\"T_6ba92_row13_col6\" class=\"data row13 col6\" >0.306917</td>\n      <td id=\"T_6ba92_row13_col7\" class=\"data row13 col7\" >0.360226</td>\n      <td id=\"T_6ba92_row13_col8\" class=\"data row13 col8\" >0.154358</td>\n      <td id=\"T_6ba92_row13_col9\" class=\"data row13 col9\" >0.164448</td>\n      <td id=\"T_6ba92_row13_col10\" class=\"data row13 col10\" >0.199397</td>\n    </tr>\n    <tr>\n      <th id=\"T_6ba92_level0_row14\" class=\"row_heading level0 row14\" >23</th>\n      <td id=\"T_6ba92_row14_col0\" class=\"data row14 col0\" >gpt-4o</td>\n      <td id=\"T_6ba92_row14_col1\" class=\"data row14 col1\" >multilingual-e5-small</td>\n      <td id=\"T_6ba92_row14_col2\" class=\"data row14 col2\" >KNN</td>\n      <td id=\"T_6ba92_row14_col3\" class=\"data row14 col3\" >True</td>\n      <td id=\"T_6ba92_row14_col4\" class=\"data row14 col4\" >True</td>\n      <td id=\"T_6ba92_row14_col5\" class=\"data row14 col5\" >0.287508</td>\n      <td id=\"T_6ba92_row14_col6\" class=\"data row14 col6\" >0.300152</td>\n      <td id=\"T_6ba92_row14_col7\" class=\"data row14 col7\" >0.368288</td>\n      <td id=\"T_6ba92_row14_col8\" class=\"data row14 col8\" >0.156886</td>\n      <td id=\"T_6ba92_row14_col9\" class=\"data row14 col9\" >0.163315</td>\n      <td id=\"T_6ba92_row14_col10\" class=\"data row14 col10\" >0.206031</td>\n    </tr>\n    <tr>\n      <th id=\"T_6ba92_level0_row15\" class=\"row_heading level0 row15\" >15</th>\n      <td id=\"T_6ba92_row15_col0\" class=\"data row15 col0\" >gpt-4.1</td>\n      <td id=\"T_6ba92_row15_col1\" class=\"data row15 col1\" >text-embedding-ada-002</td>\n      <td id=\"T_6ba92_row15_col2\" class=\"data row15 col2\" >KNN</td>\n      <td id=\"T_6ba92_row15_col3\" class=\"data row15 col3\" >False</td>\n      <td id=\"T_6ba92_row15_col4\" class=\"data row15 col4\" >False</td>\n      <td id=\"T_6ba92_row15_col5\" class=\"data row15 col5\" >0.286982</td>\n      <td id=\"T_6ba92_row15_col6\" class=\"data row15 col6\" >0.236045</td>\n      <td id=\"T_6ba92_row15_col7\" class=\"data row15 col7\" >0.483367</td>\n      <td id=\"T_6ba92_row15_col8\" class=\"data row15 col8\" >0.151795</td>\n      <td id=\"T_6ba92_row15_col9\" class=\"data row15 col9\" >0.121563</td>\n      <td id=\"T_6ba92_row15_col10\" class=\"data row15 col10\" >0.273179</td>\n    </tr>\n    <tr>\n      <th id=\"T_6ba92_level0_row16\" class=\"row_heading level0 row16\" >3</th>\n      <td id=\"T_6ba92_row16_col0\" class=\"data row16 col0\" >gpt-4.1</td>\n      <td id=\"T_6ba92_row16_col1\" class=\"data row16 col1\" >multilingual-e5-small</td>\n      <td id=\"T_6ba92_row16_col2\" class=\"data row16 col2\" >KNN</td>\n      <td id=\"T_6ba92_row16_col3\" class=\"data row16 col3\" >False</td>\n      <td id=\"T_6ba92_row16_col4\" class=\"data row16 col4\" >False</td>\n      <td id=\"T_6ba92_row16_col5\" class=\"data row16 col5\" >0.286654</td>\n      <td id=\"T_6ba92_row16_col6\" class=\"data row16 col6\" >0.239127</td>\n      <td id=\"T_6ba92_row16_col7\" class=\"data row16 col7\" >0.497915</td>\n      <td id=\"T_6ba92_row16_col8\" class=\"data row16 col8\" >0.150731</td>\n      <td id=\"T_6ba92_row16_col9\" class=\"data row16 col9\" >0.123423</td>\n      <td id=\"T_6ba92_row16_col10\" class=\"data row16 col10\" >0.279931</td>\n    </tr>\n    <tr>\n      <th id=\"T_6ba92_level0_row17\" class=\"row_heading level0 row17\" >28</th>\n      <td id=\"T_6ba92_row17_col0\" class=\"data row17 col0\" >gpt-4o</td>\n      <td id=\"T_6ba92_row17_col1\" class=\"data row17 col1\" >text-embedding-3-large</td>\n      <td id=\"T_6ba92_row17_col2\" class=\"data row17 col2\" >KNN</td>\n      <td id=\"T_6ba92_row17_col3\" class=\"data row17 col3\" >True</td>\n      <td id=\"T_6ba92_row17_col4\" class=\"data row17 col4\" >False</td>\n      <td id=\"T_6ba92_row17_col5\" class=\"data row17 col5\" >0.286288</td>\n      <td id=\"T_6ba92_row17_col6\" class=\"data row17 col6\" >0.301028</td>\n      <td id=\"T_6ba92_row17_col7\" class=\"data row17 col7\" >0.355283</td>\n      <td id=\"T_6ba92_row17_col8\" class=\"data row17 col8\" >0.155439</td>\n      <td id=\"T_6ba92_row17_col9\" class=\"data row17 col9\" >0.161577</td>\n      <td id=\"T_6ba92_row17_col10\" class=\"data row17 col10\" >0.200950</td>\n    </tr>\n    <tr>\n      <th id=\"T_6ba92_level0_row18\" class=\"row_heading level0 row18\" >22</th>\n      <td id=\"T_6ba92_row18_col0\" class=\"data row18 col0\" >gpt-4o</td>\n      <td id=\"T_6ba92_row18_col1\" class=\"data row18 col1\" >multilingual-e5-small</td>\n      <td id=\"T_6ba92_row18_col2\" class=\"data row18 col2\" >KNN</td>\n      <td id=\"T_6ba92_row18_col3\" class=\"data row18 col3\" >True</td>\n      <td id=\"T_6ba92_row18_col4\" class=\"data row18 col4\" >False</td>\n      <td id=\"T_6ba92_row18_col5\" class=\"data row18 col5\" >0.286252</td>\n      <td id=\"T_6ba92_row18_col6\" class=\"data row18 col6\" >0.305409</td>\n      <td id=\"T_6ba92_row18_col7\" class=\"data row18 col7\" >0.357909</td>\n      <td id=\"T_6ba92_row18_col8\" class=\"data row18 col8\" >0.154706</td>\n      <td id=\"T_6ba92_row18_col9\" class=\"data row18 col9\" >0.163785</td>\n      <td id=\"T_6ba92_row18_col10\" class=\"data row18 col10\" >0.201360</td>\n    </tr>\n    <tr>\n      <th id=\"T_6ba92_level0_row19\" class=\"row_heading level0 row19\" >6</th>\n      <td id=\"T_6ba92_row19_col0\" class=\"data row19 col0\" >gpt-4.1</td>\n      <td id=\"T_6ba92_row19_col1\" class=\"data row19 col1\" >text-embedding-3-large</td>\n      <td id=\"T_6ba92_row19_col2\" class=\"data row19 col2\" >HNSW</td>\n      <td id=\"T_6ba92_row19_col3\" class=\"data row19 col3\" >False</td>\n      <td id=\"T_6ba92_row19_col4\" class=\"data row19 col4\" >False</td>\n      <td id=\"T_6ba92_row19_col5\" class=\"data row19 col5\" >0.285676</td>\n      <td id=\"T_6ba92_row19_col6\" class=\"data row19 col6\" >0.225919</td>\n      <td id=\"T_6ba92_row19_col7\" class=\"data row19 col7\" >0.512489</td>\n      <td id=\"T_6ba92_row19_col8\" class=\"data row19 col8\" >0.147075</td>\n      <td id=\"T_6ba92_row19_col9\" class=\"data row19 col9\" >0.113560</td>\n      <td id=\"T_6ba92_row19_col10\" class=\"data row19 col10\" >0.282989</td>\n    </tr>\n    <tr>\n      <th id=\"T_6ba92_level0_row20\" class=\"row_heading level0 row20\" >9</th>\n      <td id=\"T_6ba92_row20_col0\" class=\"data row20 col0\" >gpt-4.1</td>\n      <td id=\"T_6ba92_row20_col1\" class=\"data row20 col1\" >text-embedding-3-large</td>\n      <td id=\"T_6ba92_row20_col2\" class=\"data row20 col2\" >KNN</td>\n      <td id=\"T_6ba92_row20_col3\" class=\"data row20 col3\" >False</td>\n      <td id=\"T_6ba92_row20_col4\" class=\"data row20 col4\" >False</td>\n      <td id=\"T_6ba92_row20_col5\" class=\"data row20 col5\" >0.284105</td>\n      <td id=\"T_6ba92_row20_col6\" class=\"data row20 col6\" >0.222355</td>\n      <td id=\"T_6ba92_row20_col7\" class=\"data row20 col7\" >0.512572</td>\n      <td id=\"T_6ba92_row20_col8\" class=\"data row20 col8\" >0.145963</td>\n      <td id=\"T_6ba92_row20_col9\" class=\"data row20 col9\" >0.111883</td>\n      <td id=\"T_6ba92_row20_col10\" class=\"data row20 col10\" >0.280317</td>\n    </tr>\n    <tr>\n      <th id=\"T_6ba92_level0_row21\" class=\"row_heading level0 row21\" >0</th>\n      <td id=\"T_6ba92_row21_col0\" class=\"data row21 col0\" >gpt-4.1</td>\n      <td id=\"T_6ba92_row21_col1\" class=\"data row21 col1\" >multilingual-e5-small</td>\n      <td id=\"T_6ba92_row21_col2\" class=\"data row21 col2\" >HNSW</td>\n      <td id=\"T_6ba92_row21_col3\" class=\"data row21 col3\" >False</td>\n      <td id=\"T_6ba92_row21_col4\" class=\"data row21 col4\" >False</td>\n      <td id=\"T_6ba92_row21_col5\" class=\"data row21 col5\" >0.283681</td>\n      <td id=\"T_6ba92_row21_col6\" class=\"data row21 col6\" >0.233446</td>\n      <td id=\"T_6ba92_row21_col7\" class=\"data row21 col7\" >0.492498</td>\n      <td id=\"T_6ba92_row21_col8\" class=\"data row21 col8\" >0.147136</td>\n      <td id=\"T_6ba92_row21_col9\" class=\"data row21 col9\" >0.118620</td>\n      <td id=\"T_6ba92_row21_col10\" class=\"data row21 col10\" >0.276586</td>\n    </tr>\n    <tr>\n      <th id=\"T_6ba92_level0_row22\" class=\"row_heading level0 row22\" >19</th>\n      <td id=\"T_6ba92_row22_col0\" class=\"data row22 col0\" >gpt-4o</td>\n      <td id=\"T_6ba92_row22_col1\" class=\"data row22 col1\" >multilingual-e5-small</td>\n      <td id=\"T_6ba92_row22_col2\" class=\"data row22 col2\" >HNSW</td>\n      <td id=\"T_6ba92_row22_col3\" class=\"data row22 col3\" >True</td>\n      <td id=\"T_6ba92_row22_col4\" class=\"data row22 col4\" >False</td>\n      <td id=\"T_6ba92_row22_col5\" class=\"data row22 col5\" >0.283544</td>\n      <td id=\"T_6ba92_row22_col6\" class=\"data row22 col6\" >0.300000</td>\n      <td id=\"T_6ba92_row22_col7\" class=\"data row22 col7\" >0.354625</td>\n      <td id=\"T_6ba92_row22_col8\" class=\"data row22 col8\" >0.154159</td>\n      <td id=\"T_6ba92_row22_col9\" class=\"data row22 col9\" >0.163133</td>\n      <td id=\"T_6ba92_row22_col10\" class=\"data row22 col10\" >0.199667</td>\n    </tr>\n    <tr>\n      <th id=\"T_6ba92_level0_row23\" class=\"row_heading level0 row23\" >31</th>\n      <td id=\"T_6ba92_row23_col0\" class=\"data row23 col0\" >gpt-4o</td>\n      <td id=\"T_6ba92_row23_col1\" class=\"data row23 col1\" >text-embedding-ada-002</td>\n      <td id=\"T_6ba92_row23_col2\" class=\"data row23 col2\" >HNSW</td>\n      <td id=\"T_6ba92_row23_col3\" class=\"data row23 col3\" >True</td>\n      <td id=\"T_6ba92_row23_col4\" class=\"data row23 col4\" >False</td>\n      <td id=\"T_6ba92_row23_col5\" class=\"data row23 col5\" >0.278782</td>\n      <td id=\"T_6ba92_row23_col6\" class=\"data row23 col6\" >0.313355</td>\n      <td id=\"T_6ba92_row23_col7\" class=\"data row23 col7\" >0.341660</td>\n      <td id=\"T_6ba92_row23_col8\" class=\"data row23 col8\" >0.154988</td>\n      <td id=\"T_6ba92_row23_col9\" class=\"data row23 col9\" >0.176463</td>\n      <td id=\"T_6ba92_row23_col10\" class=\"data row23 col10\" >0.194870</td>\n    </tr>\n    <tr>\n      <th id=\"T_6ba92_level0_row24\" class=\"row_heading level0 row24\" >4</th>\n      <td id=\"T_6ba92_row24_col0\" class=\"data row24 col0\" >gpt-4.1</td>\n      <td id=\"T_6ba92_row24_col1\" class=\"data row24 col1\" >multilingual-e5-small</td>\n      <td id=\"T_6ba92_row24_col2\" class=\"data row24 col2\" >KNN</td>\n      <td id=\"T_6ba92_row24_col3\" class=\"data row24 col3\" >True</td>\n      <td id=\"T_6ba92_row24_col4\" class=\"data row24 col4\" >False</td>\n      <td id=\"T_6ba92_row24_col5\" class=\"data row24 col5\" >0.278626</td>\n      <td id=\"T_6ba92_row24_col6\" class=\"data row24 col6\" >0.215364</td>\n      <td id=\"T_6ba92_row24_col7\" class=\"data row24 col7\" >0.515043</td>\n      <td id=\"T_6ba92_row24_col8\" class=\"data row24 col8\" >0.148624</td>\n      <td id=\"T_6ba92_row24_col9\" class=\"data row24 col9\" >0.112839</td>\n      <td id=\"T_6ba92_row24_col10\" class=\"data row24 col10\" >0.291814</td>\n    </tr>\n    <tr>\n      <th id=\"T_6ba92_level0_row25\" class=\"row_heading level0 row25\" >7</th>\n      <td id=\"T_6ba92_row25_col0\" class=\"data row25 col0\" >gpt-4.1</td>\n      <td id=\"T_6ba92_row25_col1\" class=\"data row25 col1\" >text-embedding-3-large</td>\n      <td id=\"T_6ba92_row25_col2\" class=\"data row25 col2\" >HNSW</td>\n      <td id=\"T_6ba92_row25_col3\" class=\"data row25 col3\" >True</td>\n      <td id=\"T_6ba92_row25_col4\" class=\"data row25 col4\" >False</td>\n      <td id=\"T_6ba92_row25_col5\" class=\"data row25 col5\" >0.277797</td>\n      <td id=\"T_6ba92_row25_col6\" class=\"data row25 col6\" >0.214271</td>\n      <td id=\"T_6ba92_row25_col7\" class=\"data row25 col7\" >0.529491</td>\n      <td id=\"T_6ba92_row25_col8\" class=\"data row25 col8\" >0.145134</td>\n      <td id=\"T_6ba92_row25_col9\" class=\"data row25 col9\" >0.109844</td>\n      <td id=\"T_6ba92_row25_col10\" class=\"data row25 col10\" >0.292146</td>\n    </tr>\n    <tr>\n      <th id=\"T_6ba92_level0_row26\" class=\"row_heading level0 row26\" >10</th>\n      <td id=\"T_6ba92_row26_col0\" class=\"data row26 col0\" >gpt-4.1</td>\n      <td id=\"T_6ba92_row26_col1\" class=\"data row26 col1\" >text-embedding-3-large</td>\n      <td id=\"T_6ba92_row26_col2\" class=\"data row26 col2\" >KNN</td>\n      <td id=\"T_6ba92_row26_col3\" class=\"data row26 col3\" >True</td>\n      <td id=\"T_6ba92_row26_col4\" class=\"data row26 col4\" >False</td>\n      <td id=\"T_6ba92_row26_col5\" class=\"data row26 col5\" >0.277064</td>\n      <td id=\"T_6ba92_row26_col6\" class=\"data row26 col6\" >0.210328</td>\n      <td id=\"T_6ba92_row26_col7\" class=\"data row26 col7\" >0.533412</td>\n      <td id=\"T_6ba92_row26_col8\" class=\"data row26 col8\" >0.145024</td>\n      <td id=\"T_6ba92_row26_col9\" class=\"data row26 col9\" >0.107657</td>\n      <td id=\"T_6ba92_row26_col10\" class=\"data row26 col10\" >0.298458</td>\n    </tr>\n    <tr>\n      <th id=\"T_6ba92_level0_row27\" class=\"row_heading level0 row27\" >2</th>\n      <td id=\"T_6ba92_row27_col0\" class=\"data row27 col0\" >gpt-4.1</td>\n      <td id=\"T_6ba92_row27_col1\" class=\"data row27 col1\" >multilingual-e5-small</td>\n      <td id=\"T_6ba92_row27_col2\" class=\"data row27 col2\" >HNSW</td>\n      <td id=\"T_6ba92_row27_col3\" class=\"data row27 col3\" >True</td>\n      <td id=\"T_6ba92_row27_col4\" class=\"data row27 col4\" >True</td>\n      <td id=\"T_6ba92_row27_col5\" class=\"data row27 col5\" >0.275602</td>\n      <td id=\"T_6ba92_row27_col6\" class=\"data row27 col6\" >0.217470</td>\n      <td id=\"T_6ba92_row27_col7\" class=\"data row27 col7\" >0.529682</td>\n      <td id=\"T_6ba92_row27_col8\" class=\"data row27 col8\" >0.147399</td>\n      <td id=\"T_6ba92_row27_col9\" class=\"data row27 col9\" >0.113392</td>\n      <td id=\"T_6ba92_row27_col10\" class=\"data row27 col10\" >0.300137</td>\n    </tr>\n    <tr>\n      <th id=\"T_6ba92_level0_row28\" class=\"row_heading level0 row28\" >13</th>\n      <td id=\"T_6ba92_row28_col0\" class=\"data row28 col0\" >gpt-4.1</td>\n      <td id=\"T_6ba92_row28_col1\" class=\"data row28 col1\" >text-embedding-ada-002</td>\n      <td id=\"T_6ba92_row28_col2\" class=\"data row28 col2\" >HNSW</td>\n      <td id=\"T_6ba92_row28_col3\" class=\"data row28 col3\" >True</td>\n      <td id=\"T_6ba92_row28_col4\" class=\"data row28 col4\" >False</td>\n      <td id=\"T_6ba92_row28_col5\" class=\"data row28 col5\" >0.274307</td>\n      <td id=\"T_6ba92_row28_col6\" class=\"data row28 col6\" >0.214814</td>\n      <td id=\"T_6ba92_row28_col7\" class=\"data row28 col7\" >0.521744</td>\n      <td id=\"T_6ba92_row28_col8\" class=\"data row28 col8\" >0.146791</td>\n      <td id=\"T_6ba92_row28_col9\" class=\"data row28 col9\" >0.111856</td>\n      <td id=\"T_6ba92_row28_col10\" class=\"data row28 col10\" >0.299081</td>\n    </tr>\n    <tr>\n      <th id=\"T_6ba92_level0_row29\" class=\"row_heading level0 row29\" >11</th>\n      <td id=\"T_6ba92_row29_col0\" class=\"data row29 col0\" >gpt-4.1</td>\n      <td id=\"T_6ba92_row29_col1\" class=\"data row29 col1\" >text-embedding-3-large</td>\n      <td id=\"T_6ba92_row29_col2\" class=\"data row29 col2\" >KNN</td>\n      <td id=\"T_6ba92_row29_col3\" class=\"data row29 col3\" >True</td>\n      <td id=\"T_6ba92_row29_col4\" class=\"data row29 col4\" >True</td>\n      <td id=\"T_6ba92_row29_col5\" class=\"data row29 col5\" >0.272931</td>\n      <td id=\"T_6ba92_row29_col6\" class=\"data row29 col6\" >0.211660</td>\n      <td id=\"T_6ba92_row29_col7\" class=\"data row29 col7\" >0.540829</td>\n      <td id=\"T_6ba92_row29_col8\" class=\"data row29 col8\" >0.144029</td>\n      <td id=\"T_6ba92_row29_col9\" class=\"data row29 col9\" >0.109150</td>\n      <td id=\"T_6ba92_row29_col10\" class=\"data row29 col10\" >0.304538</td>\n    </tr>\n    <tr>\n      <th id=\"T_6ba92_level0_row30\" class=\"row_heading level0 row30\" >5</th>\n      <td id=\"T_6ba92_row30_col0\" class=\"data row30 col0\" >gpt-4.1</td>\n      <td id=\"T_6ba92_row30_col1\" class=\"data row30 col1\" >multilingual-e5-small</td>\n      <td id=\"T_6ba92_row30_col2\" class=\"data row30 col2\" >KNN</td>\n      <td id=\"T_6ba92_row30_col3\" class=\"data row30 col3\" >True</td>\n      <td id=\"T_6ba92_row30_col4\" class=\"data row30 col4\" >True</td>\n      <td id=\"T_6ba92_row30_col5\" class=\"data row30 col5\" >0.272520</td>\n      <td id=\"T_6ba92_row30_col6\" class=\"data row30 col6\" >0.210200</td>\n      <td id=\"T_6ba92_row30_col7\" class=\"data row30 col7\" >0.535827</td>\n      <td id=\"T_6ba92_row30_col8\" class=\"data row30 col8\" >0.146402</td>\n      <td id=\"T_6ba92_row30_col9\" class=\"data row30 col9\" >0.110058</td>\n      <td id=\"T_6ba92_row30_col10\" class=\"data row30 col10\" >0.307869</td>\n    </tr>\n    <tr>\n      <th id=\"T_6ba92_level0_row31\" class=\"row_heading level0 row31\" >17</th>\n      <td id=\"T_6ba92_row31_col0\" class=\"data row31 col0\" >gpt-4.1</td>\n      <td id=\"T_6ba92_row31_col1\" class=\"data row31 col1\" >text-embedding-ada-002</td>\n      <td id=\"T_6ba92_row31_col2\" class=\"data row31 col2\" >KNN</td>\n      <td id=\"T_6ba92_row31_col3\" class=\"data row31 col3\" >True</td>\n      <td id=\"T_6ba92_row31_col4\" class=\"data row31 col4\" >True</td>\n      <td id=\"T_6ba92_row31_col5\" class=\"data row31 col5\" >0.269502</td>\n      <td id=\"T_6ba92_row31_col6\" class=\"data row31 col6\" >0.206043</td>\n      <td id=\"T_6ba92_row31_col7\" class=\"data row31 col7\" >0.536265</td>\n      <td id=\"T_6ba92_row31_col8\" class=\"data row31 col8\" >0.142686</td>\n      <td id=\"T_6ba92_row31_col9\" class=\"data row31 col9\" >0.107318</td>\n      <td id=\"T_6ba92_row31_col10\" class=\"data row31 col10\" >0.299398</td>\n    </tr>\n    <tr>\n      <th id=\"T_6ba92_level0_row32\" class=\"row_heading level0 row32\" >14</th>\n      <td id=\"T_6ba92_row32_col0\" class=\"data row32 col0\" >gpt-4.1</td>\n      <td id=\"T_6ba92_row32_col1\" class=\"data row32 col1\" >text-embedding-ada-002</td>\n      <td id=\"T_6ba92_row32_col2\" class=\"data row32 col2\" >HNSW</td>\n      <td id=\"T_6ba92_row32_col3\" class=\"data row32 col3\" >True</td>\n      <td id=\"T_6ba92_row32_col4\" class=\"data row32 col4\" >True</td>\n      <td id=\"T_6ba92_row32_col5\" class=\"data row32 col5\" >0.268689</td>\n      <td id=\"T_6ba92_row32_col6\" class=\"data row32 col6\" >0.209415</td>\n      <td id=\"T_6ba92_row32_col7\" class=\"data row32 col7\" >0.522386</td>\n      <td id=\"T_6ba92_row32_col8\" class=\"data row32 col8\" >0.143019</td>\n      <td id=\"T_6ba92_row32_col9\" class=\"data row32 col9\" >0.108704</td>\n      <td id=\"T_6ba92_row32_col10\" class=\"data row32 col10\" >0.298701</td>\n    </tr>\n    <tr>\n      <th id=\"T_6ba92_level0_row33\" class=\"row_heading level0 row33\" >1</th>\n      <td id=\"T_6ba92_row33_col0\" class=\"data row33 col0\" >gpt-4.1</td>\n      <td id=\"T_6ba92_row33_col1\" class=\"data row33 col1\" >multilingual-e5-small</td>\n      <td id=\"T_6ba92_row33_col2\" class=\"data row33 col2\" >HNSW</td>\n      <td id=\"T_6ba92_row33_col3\" class=\"data row33 col3\" >True</td>\n      <td id=\"T_6ba92_row33_col4\" class=\"data row33 col4\" >False</td>\n      <td id=\"T_6ba92_row33_col5\" class=\"data row33 col5\" >0.267376</td>\n      <td id=\"T_6ba92_row33_col6\" class=\"data row33 col6\" >0.209738</td>\n      <td id=\"T_6ba92_row33_col7\" class=\"data row33 col7\" >0.520231</td>\n      <td id=\"T_6ba92_row33_col8\" class=\"data row33 col8\" >0.145319</td>\n      <td id=\"T_6ba92_row33_col9\" class=\"data row33 col9\" >0.112812</td>\n      <td id=\"T_6ba92_row33_col10\" class=\"data row33 col10\" >0.296675</td>\n    </tr>\n    <tr>\n      <th id=\"T_6ba92_level0_row34\" class=\"row_heading level0 row34\" >16</th>\n      <td id=\"T_6ba92_row34_col0\" class=\"data row34 col0\" >gpt-4.1</td>\n      <td id=\"T_6ba92_row34_col1\" class=\"data row34 col1\" >text-embedding-ada-002</td>\n      <td id=\"T_6ba92_row34_col2\" class=\"data row34 col2\" >KNN</td>\n      <td id=\"T_6ba92_row34_col3\" class=\"data row34 col3\" >True</td>\n      <td id=\"T_6ba92_row34_col4\" class=\"data row34 col4\" >False</td>\n      <td id=\"T_6ba92_row34_col5\" class=\"data row34 col5\" >0.264261</td>\n      <td id=\"T_6ba92_row34_col6\" class=\"data row34 col6\" >0.202275</td>\n      <td id=\"T_6ba92_row34_col7\" class=\"data row34 col7\" >0.534991</td>\n      <td id=\"T_6ba92_row34_col8\" class=\"data row34 col8\" >0.142128</td>\n      <td id=\"T_6ba92_row34_col9\" class=\"data row34 col9\" >0.106215</td>\n      <td id=\"T_6ba92_row34_col10\" class=\"data row34 col10\" >0.308924</td>\n    </tr>\n    <tr>\n      <th id=\"T_6ba92_level0_row35\" class=\"row_heading level0 row35\" >8</th>\n      <td id=\"T_6ba92_row35_col0\" class=\"data row35 col0\" >gpt-4.1</td>\n      <td id=\"T_6ba92_row35_col1\" class=\"data row35 col1\" >text-embedding-3-large</td>\n      <td id=\"T_6ba92_row35_col2\" class=\"data row35 col2\" >HNSW</td>\n      <td id=\"T_6ba92_row35_col3\" class=\"data row35 col3\" >True</td>\n      <td id=\"T_6ba92_row35_col4\" class=\"data row35 col4\" >True</td>\n      <td id=\"T_6ba92_row35_col5\" class=\"data row35 col5\" >0.254344</td>\n      <td id=\"T_6ba92_row35_col6\" class=\"data row35 col6\" >0.191769</td>\n      <td id=\"T_6ba92_row35_col7\" class=\"data row35 col7\" >0.542137</td>\n      <td id=\"T_6ba92_row35_col8\" class=\"data row35 col8\" >0.137368</td>\n      <td id=\"T_6ba92_row35_col9\" class=\"data row35 col9\" >0.100959</td>\n      <td id=\"T_6ba92_row35_col10\" class=\"data row35 col10\" >0.310454</td>\n    </tr>\n  </tbody>\n</table>\n"
          },
          "metadata": {}
        }
      ],
      "execution_count": 162,
      "metadata": {
        "gather": {
          "logged": 1752443660589
        },
        "collapsed": false
      }
    },
    {
      "cell_type": "code",
      "source": [],
      "outputs": [],
      "execution_count": 37,
      "metadata": {
        "gather": {
          "logged": 1752500273446
        }
      }
    },
    {
      "cell_type": "code",
      "source": [
        "#Calculate aggregates score and remap columns\n",
        "df_ragas_evaluation['aggregated_score'] = (2 * final_df['faithfulness'] + final_df['context_recall'] + final_df['context_precision'])/4\n",
        "df = df_ragas_evaluation\n",
        "\n",
        "#Define mappings for column renaming\n",
        "embedding_model_map = {\n",
        "    \"custom-vectorizer-384\": \"multilingual-e5-small\",\n",
        "    \"openai-vectorizer-text-embedding-3-large\": \"text-embedding-3-large\",\n",
        "    \"openai-vectorizer-text-embedding-ada-002\": \"text-embedding-ada-002\"\n",
        "}\n",
        "\n",
        "search_algorithm_map = {\n",
        "    \"exhaustiveknn\": \"KNN\",\n",
        "    \"hnsw\": \"HNSW\"\n",
        "}\n",
        "\n",
        "#Create new columns for clarity of the techniques\n",
        "df['embedding_model'] = df['idx_name'].apply(\n",
        "    lambda x: next((val for key, val in embedding_model_map.items() if key in x), None)\n",
        ")\n",
        "df['search_algorithm'] = df['idx_name'].apply(\n",
        "    lambda x: next((val for key, val in search_algorithm_map.items() if key in x), None)\n",
        ")\n",
        "df['agentic_retrieval'] = df['method_name'].apply(\n",
        "    lambda x: \"Agentic\" in x\n",
        ")\n",
        "df['reranking'] = df['method_name'].apply(\n",
        "    lambda x: \"with reranking\" in x\n",
        ")\n",
        "\n",
        "df_ragas_evaluation_stats = df[['deployment_name',\n",
        "                           'embedding_model',\n",
        "                           'search_algorithm',\n",
        "                           'agentic_retrieval',\n",
        "                           'reranking', \"faithfulness\", \"context_recall\", \"context_precision\", \"aggregated_score\"\n",
        "                           ]]\n",
        "\n",
        "rouge_statistics = df_merged_rouge[['deployment_name',\n",
        "                           'embedding_model',\n",
        "                           'search_algorithm',\n",
        "                           'agentic_retrieval',\n",
        "                           'reranking', \"rouge1_precision\", \"rouge1_recall\", \"rouge1_fmeasure\", \"rougeL_precision\", \"rougeL_recall\",\"rougeL_fmeasure\"\n",
        "                           ]]\n",
        "\n",
        "#Export pickle for statistical tests\n",
        "df_ragas_evaluation_stats.to_pickle(\"rouge_statistics.pkl\")\n",
        "rouge_statistics.to_pickle(\"rouge_statistics.pkl\")\n"
      ],
      "outputs": [],
      "execution_count": 39,
      "metadata": {
        "gather": {
          "logged": 1752500331309
        }
      }
    },
    {
      "cell_type": "code",
      "source": [
        "#RAGAs scores grouped by query\n",
        "\n",
        "final_df_grouped_iteration = df_ragas_evaluation[[\"deployment_name\",\"idx_name\", \"method_name\", \"query\", 'faithfulness', 'context_recall', 'context_precision', 'time']].groupby([\"deployment_name\",\"idx_name\", \"method_name\", \"query\"]).mean().reset_index()\n",
        "final_df_grouped_query = final_df_grouped_iteration.groupby(\"query\")[['faithfulness', 'context_recall', 'context_precision']].mean().reset_index()\n",
        "\n",
        "merged_df = final_df_grouped_query.merge(df_vragen[['query', 'Vraag Nr.']], on='query', how='left')\n",
        "#Replace query content by query number\n",
        "final_df_grouped_query['query'] = merged_df['Vraag Nr.']\n",
        "final_df_grouped_query.sort_values(by='query', inplace=True)\n",
        "\n",
        "\n",
        "final_df_grouped_query['aggregated_score'] = (2 * final_df_grouped_query['faithfulness'] + final_df_grouped_query['context_recall'] + final_df_grouped_query['context_precision'])/4\n",
        "\n",
        "final_df_grouped_query = final_df_grouped_query[['query',\n",
        "                           'aggregated_score',\n",
        "                           'faithfulness',\n",
        "                           'context_recall',\n",
        "                           'context_precision']]\n",
        "\n",
        "final_df_grouped_query = final_df_grouped_query.sort_values(by='aggregated_score', ascending=False)\n",
        "\n",
        "\n",
        "\n",
        "final_df_grouped_query.style.background_gradient(\n",
        "    subset= ['faithfulness', 'context_recall', 'context_precision', 'aggregated_score'],\n",
        "    cmap=sns.color_palette(\"crest_r\", as_cmap=True)\n",
        ")"
      ],
      "outputs": [
        {
          "output_type": "execute_result",
          "execution_count": 248,
          "data": {
            "text/plain": "<pandas.io.formats.style.Styler at 0x73744d43cdc0>",
            "text/html": "<style type=\"text/css\">\n#T_32669_row0_col1, #T_32669_row0_col4, #T_32669_row6_col3, #T_32669_row7_col2 {\n  background-color: #a5cd90;\n  color: #000000;\n}\n#T_32669_row0_col2 {\n  background-color: #73b590;\n  color: #f1f1f1;\n}\n#T_32669_row0_col3, #T_32669_row16_col2 {\n  background-color: #8ec291;\n  color: #000000;\n}\n#T_32669_row1_col1 {\n  background-color: #7eba91;\n  color: #000000;\n}\n#T_32669_row1_col2 {\n  background-color: #5aa690;\n  color: #f1f1f1;\n}\n#T_32669_row1_col3 {\n  background-color: #a2cb91;\n  color: #000000;\n}\n#T_32669_row1_col4, #T_32669_row4_col4 {\n  background-color: #4e9d90;\n  color: #f1f1f1;\n}\n#T_32669_row2_col1, #T_32669_row13_col2 {\n  background-color: #62ab90;\n  color: #f1f1f1;\n}\n#T_32669_row2_col2 {\n  background-color: #41918f;\n  color: #f1f1f1;\n}\n#T_32669_row2_col3 {\n  background-color: #6ab090;\n  color: #f1f1f1;\n}\n#T_32669_row2_col4 {\n  background-color: #55a290;\n  color: #f1f1f1;\n}\n#T_32669_row3_col1 {\n  background-color: #61aa90;\n  color: #f1f1f1;\n}\n#T_32669_row3_col2 {\n  background-color: #8bc191;\n  color: #000000;\n}\n#T_32669_row3_col3, #T_32669_row14_col4 {\n  background-color: #24768b;\n  color: #f1f1f1;\n}\n#T_32669_row3_col4 {\n  background-color: #62ac90;\n  color: #f1f1f1;\n}\n#T_32669_row4_col1, #T_32669_row5_col1 {\n  background-color: #5da890;\n  color: #f1f1f1;\n}\n#T_32669_row4_col2, #T_32669_row8_col4, #T_32669_row15_col2 {\n  background-color: #2c7e8c;\n  color: #f1f1f1;\n}\n#T_32669_row4_col3 {\n  background-color: #8ac091;\n  color: #000000;\n}\n#T_32669_row5_col2 {\n  background-color: #3f8f8e;\n  color: #f1f1f1;\n}\n#T_32669_row5_col3 {\n  background-color: #8fc291;\n  color: #000000;\n}\n#T_32669_row5_col4 {\n  background-color: #36878d;\n  color: #f1f1f1;\n}\n#T_32669_row6_col1 {\n  background-color: #59a590;\n  color: #f1f1f1;\n}\n#T_32669_row6_col2 {\n  background-color: #4c9b90;\n  color: #f1f1f1;\n}\n#T_32669_row6_col4 {\n  background-color: #1c6889;\n  color: #f1f1f1;\n}\n#T_32669_row7_col1 {\n  background-color: #52a090;\n  color: #f1f1f1;\n}\n#T_32669_row7_col3, #T_32669_row17_col3, #T_32669_row19_col3 {\n  background-color: #22748b;\n  color: #f1f1f1;\n}\n#T_32669_row7_col4 {\n  background-color: #32848d;\n  color: #f1f1f1;\n}\n#T_32669_row8_col1 {\n  background-color: #47978f;\n  color: #f1f1f1;\n}\n#T_32669_row8_col2 {\n  background-color: #57a490;\n  color: #f1f1f1;\n}\n#T_32669_row8_col3 {\n  background-color: #3c8c8e;\n  color: #f1f1f1;\n}\n#T_32669_row9_col1 {\n  background-color: #35868d;\n  color: #f1f1f1;\n}\n#T_32669_row9_col2 {\n  background-color: #86be91;\n  color: #000000;\n}\n#T_32669_row9_col3 {\n  background-color: #29427a;\n  color: #f1f1f1;\n}\n#T_32669_row9_col4, #T_32669_row13_col1 {\n  background-color: #287a8c;\n  color: #f1f1f1;\n}\n#T_32669_row10_col1, #T_32669_row11_col1, #T_32669_row15_col3 {\n  background-color: #34858d;\n  color: #f1f1f1;\n}\n#T_32669_row10_col2 {\n  background-color: #3c8d8e;\n  color: #f1f1f1;\n}\n#T_32669_row10_col3 {\n  background-color: #388a8e;\n  color: #f1f1f1;\n}\n#T_32669_row10_col4 {\n  background-color: #1c6789;\n  color: #f1f1f1;\n}\n#T_32669_row11_col2 {\n  background-color: #91c391;\n  color: #000000;\n}\n#T_32669_row11_col3 {\n  background-color: #225282;\n  color: #f1f1f1;\n}\n#T_32669_row11_col4, #T_32669_row13_col3 {\n  background-color: #1c6488;\n  color: #f1f1f1;\n}\n#T_32669_row12_col1, #T_32669_row12_col2 {\n  background-color: #2b7d8c;\n  color: #f1f1f1;\n}\n#T_32669_row12_col3 {\n  background-color: #43938f;\n  color: #f1f1f1;\n}\n#T_32669_row12_col4, #T_32669_row19_col2 {\n  background-color: #215483;\n  color: #f1f1f1;\n}\n#T_32669_row13_col4 {\n  background-color: #254c80;\n  color: #f1f1f1;\n}\n#T_32669_row14_col1 {\n  background-color: #25788c;\n  color: #f1f1f1;\n}\n#T_32669_row14_col2 {\n  background-color: #35878d;\n  color: #f1f1f1;\n}\n#T_32669_row14_col3 {\n  background-color: #1f5b86;\n  color: #f1f1f1;\n}\n#T_32669_row15_col1 {\n  background-color: #24778b;\n  color: #f1f1f1;\n}\n#T_32669_row15_col4 {\n  background-color: #235081;\n  color: #f1f1f1;\n}\n#T_32669_row16_col1, #T_32669_row17_col1 {\n  background-color: #1e6d8a;\n  color: #f1f1f1;\n}\n#T_32669_row16_col3, #T_32669_row18_col2 {\n  background-color: #2a3c77;\n  color: #f1f1f1;\n}\n#T_32669_row16_col4, #T_32669_row20_col4, #T_32669_row21_col1, #T_32669_row21_col2, #T_32669_row21_col3 {\n  background-color: #2c3172;\n  color: #f1f1f1;\n}\n#T_32669_row17_col2 {\n  background-color: #1c6989;\n  color: #f1f1f1;\n}\n#T_32669_row17_col4 {\n  background-color: #1e5c86;\n  color: #f1f1f1;\n}\n#T_32669_row18_col1, #T_32669_row18_col3 {\n  background-color: #1c6589;\n  color: #f1f1f1;\n}\n#T_32669_row18_col4 {\n  background-color: #2d7f8c;\n  color: #f1f1f1;\n}\n#T_32669_row19_col1 {\n  background-color: #1d6388;\n  color: #f1f1f1;\n}\n#T_32669_row19_col4 {\n  background-color: #225383;\n  color: #f1f1f1;\n}\n#T_32669_row20_col1 {\n  background-color: #1e5d86;\n  color: #f1f1f1;\n}\n#T_32669_row20_col2 {\n  background-color: #49998f;\n  color: #f1f1f1;\n}\n#T_32669_row20_col3 {\n  background-color: #2a3d78;\n  color: #f1f1f1;\n}\n#T_32669_row21_col4 {\n  background-color: #2c3373;\n  color: #f1f1f1;\n}\n</style>\n<table id=\"T_32669\">\n  <thead>\n    <tr>\n      <th class=\"blank level0\" >&nbsp;</th>\n      <th id=\"T_32669_level0_col0\" class=\"col_heading level0 col0\" >query</th>\n      <th id=\"T_32669_level0_col1\" class=\"col_heading level0 col1\" >aggregated_score</th>\n      <th id=\"T_32669_level0_col2\" class=\"col_heading level0 col2\" >faithfulness</th>\n      <th id=\"T_32669_level0_col3\" class=\"col_heading level0 col3\" >context_recall</th>\n      <th id=\"T_32669_level0_col4\" class=\"col_heading level0 col4\" >context_precision</th>\n    </tr>\n  </thead>\n  <tbody>\n    <tr>\n      <th id=\"T_32669_level0_row0\" class=\"row_heading level0 row0\" >20</th>\n      <td id=\"T_32669_row0_col0\" class=\"data row0 col0\" >13</td>\n      <td id=\"T_32669_row0_col1\" class=\"data row0 col1\" >0.879696</td>\n      <td id=\"T_32669_row0_col2\" class=\"data row0 col2\" >0.808407</td>\n      <td id=\"T_32669_row0_col3\" class=\"data row0 col3\" >0.909057</td>\n      <td id=\"T_32669_row0_col4\" class=\"data row0 col4\" >0.992913</td>\n    </tr>\n    <tr>\n      <th id=\"T_32669_level0_row1\" class=\"row_heading level0 row1\" >12</th>\n      <td id=\"T_32669_row1_col0\" class=\"data row1 col0\" >18</td>\n      <td id=\"T_32669_row1_col1\" class=\"data row1 col1\" >0.787279</td>\n      <td id=\"T_32669_row1_col2\" class=\"data row1 col2\" >0.759618</td>\n      <td id=\"T_32669_row1_col3\" class=\"data row1 col3\" >0.976852</td>\n      <td id=\"T_32669_row1_col4\" class=\"data row1 col4\" >0.653030</td>\n    </tr>\n    <tr>\n      <th id=\"T_32669_level0_row2\" class=\"row_heading level0 row2\" >6</th>\n      <td id=\"T_32669_row2_col0\" class=\"data row2 col0\" >14</td>\n      <td id=\"T_32669_row2_col1\" class=\"data row2 col1\" >0.714280</td>\n      <td id=\"T_32669_row2_col2\" class=\"data row2 col2\" >0.694136</td>\n      <td id=\"T_32669_row2_col3\" class=\"data row2 col3\" >0.780093</td>\n      <td id=\"T_32669_row2_col4\" class=\"data row2 col4\" >0.688758</td>\n    </tr>\n    <tr>\n      <th id=\"T_32669_level0_row3\" class=\"row_heading level0 row3\" >1</th>\n      <td id=\"T_32669_row3_col0\" class=\"data row3 col0\" >3</td>\n      <td id=\"T_32669_row3_col1\" class=\"data row3 col1\" >0.712788</td>\n      <td id=\"T_32669_row3_col2\" class=\"data row3 col2\" >0.850009</td>\n      <td id=\"T_32669_row3_col3\" class=\"data row3 col3\" >0.401852</td>\n      <td id=\"T_32669_row3_col4\" class=\"data row3 col4\" >0.749280</td>\n    </tr>\n    <tr>\n      <th id=\"T_32669_level0_row4\" class=\"row_heading level0 row4\" >0</th>\n      <td id=\"T_32669_row4_col0\" class=\"data row4 col0\" >8</td>\n      <td id=\"T_32669_row4_col1\" class=\"data row4 col1\" >0.702501</td>\n      <td id=\"T_32669_row4_col2\" class=\"data row4 col2\" >0.631876</td>\n      <td id=\"T_32669_row4_col3\" class=\"data row4 col3\" >0.898148</td>\n      <td id=\"T_32669_row4_col4\" class=\"data row4 col4\" >0.648105</td>\n    </tr>\n    <tr>\n      <th id=\"T_32669_level0_row5\" class=\"row_heading level0 row5\" >18</th>\n      <td id=\"T_32669_row5_col0\" class=\"data row5 col0\" >4</td>\n      <td id=\"T_32669_row5_col1\" class=\"data row5 col1\" >0.700259</td>\n      <td id=\"T_32669_row5_col2\" class=\"data row5 col2\" >0.687951</td>\n      <td id=\"T_32669_row5_col3\" class=\"data row5 col3\" >0.913580</td>\n      <td id=\"T_32669_row5_col4\" class=\"data row5 col4\" >0.511554</td>\n    </tr>\n    <tr>\n      <th id=\"T_32669_level0_row6\" class=\"row_heading level0 row6\" >16</th>\n      <td id=\"T_32669_row6_col0\" class=\"data row6 col0\" >5</td>\n      <td id=\"T_32669_row6_col1\" class=\"data row6 col1\" >0.688950</td>\n      <td id=\"T_32669_row6_col2\" class=\"data row6 col2\" >0.725984</td>\n      <td id=\"T_32669_row6_col3\" class=\"data row6 col3\" >0.990741</td>\n      <td id=\"T_32669_row6_col4\" class=\"data row6 col4\" >0.313091</td>\n    </tr>\n    <tr>\n      <th id=\"T_32669_level0_row7\" class=\"row_heading level0 row7\" >3</th>\n      <td id=\"T_32669_row7_col0\" class=\"data row7 col0\" >15</td>\n      <td id=\"T_32669_row7_col1\" class=\"data row7 col1\" >0.665727</td>\n      <td id=\"T_32669_row7_col2\" class=\"data row7 col2\" >0.893901</td>\n      <td id=\"T_32669_row7_col3\" class=\"data row7 col3\" >0.388889</td>\n      <td id=\"T_32669_row7_col4\" class=\"data row7 col4\" >0.486216</td>\n    </tr>\n    <tr>\n      <th id=\"T_32669_level0_row8\" class=\"row_heading level0 row8\" >5</th>\n      <td id=\"T_32669_row8_col0\" class=\"data row8 col0\" >20</td>\n      <td id=\"T_32669_row8_col1\" class=\"data row8 col1\" >0.624912</td>\n      <td id=\"T_32669_row8_col2\" class=\"data row8 col2\" >0.750610</td>\n      <td id=\"T_32669_row8_col3\" class=\"data row8 col3\" >0.547980</td>\n      <td id=\"T_32669_row8_col4\" class=\"data row8 col4\" >0.450447</td>\n    </tr>\n    <tr>\n      <th id=\"T_32669_level0_row9\" class=\"row_heading level0 row9\" >7</th>\n      <td id=\"T_32669_row9_col0\" class=\"data row9 col0\" >16</td>\n      <td id=\"T_32669_row9_col1\" class=\"data row9 col1\" >0.550377</td>\n      <td id=\"T_32669_row9_col2\" class=\"data row9 col2\" >0.839835</td>\n      <td id=\"T_32669_row9_col3\" class=\"data row9 col3\" >0.096296</td>\n      <td id=\"T_32669_row9_col4\" class=\"data row9 col4\" >0.425541</td>\n    </tr>\n    <tr>\n      <th id=\"T_32669_level0_row10\" class=\"row_heading level0 row10\" >2</th>\n      <td id=\"T_32669_row10_col0\" class=\"data row10 col0\" >10</td>\n      <td id=\"T_32669_row10_col1\" class=\"data row10 col1\" >0.548721</td>\n      <td id=\"T_32669_row10_col2\" class=\"data row10 col2\" >0.681299</td>\n      <td id=\"T_32669_row10_col3\" class=\"data row10 col3\" >0.528549</td>\n      <td id=\"T_32669_row10_col4\" class=\"data row10 col4\" >0.303735</td>\n    </tr>\n    <tr>\n      <th id=\"T_32669_level0_row11\" class=\"row_heading level0 row11\" >19</th>\n      <td id=\"T_32669_row11_col0\" class=\"data row11 col0\" >6</td>\n      <td id=\"T_32669_row11_col1\" class=\"data row11 col1\" >0.548118</td>\n      <td id=\"T_32669_row11_col2\" class=\"data row11 col2\" >0.859737</td>\n      <td id=\"T_32669_row11_col3\" class=\"data row11 col3\" >0.185695</td>\n      <td id=\"T_32669_row11_col4\" class=\"data row11 col4\" >0.287302</td>\n    </tr>\n    <tr>\n      <th id=\"T_32669_level0_row12\" class=\"row_heading level0 row12\" >17</th>\n      <td id=\"T_32669_row12_col0\" class=\"data row12 col0\" >7</td>\n      <td id=\"T_32669_row12_col1\" class=\"data row12 col1\" >0.510631</td>\n      <td id=\"T_32669_row12_col2\" class=\"data row12 col2\" >0.630010</td>\n      <td id=\"T_32669_row12_col3\" class=\"data row12 col3\" >0.590278</td>\n      <td id=\"T_32669_row12_col4\" class=\"data row12 col4\" >0.192227</td>\n    </tr>\n    <tr>\n      <th id=\"T_32669_level0_row13\" class=\"row_heading level0 row13\" >4</th>\n      <td id=\"T_32669_row13_col0\" class=\"data row13 col0\" >21</td>\n      <td id=\"T_32669_row13_col1\" class=\"data row13 col1\" >0.497335</td>\n      <td id=\"T_32669_row13_col2\" class=\"data row13 col2\" >0.775616</td>\n      <td id=\"T_32669_row13_col3\" class=\"data row13 col3\" >0.290404</td>\n      <td id=\"T_32669_row13_col4\" class=\"data row13 col4\" >0.147704</td>\n    </tr>\n    <tr>\n      <th id=\"T_32669_level0_row14\" class=\"row_heading level0 row14\" >10</th>\n      <td id=\"T_32669_row14_col0\" class=\"data row14 col0\" >22</td>\n      <td id=\"T_32669_row14_col1\" class=\"data row14 col1\" >0.487910</td>\n      <td id=\"T_32669_row14_col2\" class=\"data row14 col2\" >0.660177</td>\n      <td id=\"T_32669_row14_col3\" class=\"data row14 col3\" >0.233951</td>\n      <td id=\"T_32669_row14_col4\" class=\"data row14 col4\" >0.397334</td>\n    </tr>\n    <tr>\n      <th id=\"T_32669_level0_row15\" class=\"row_heading level0 row15\" >21</th>\n      <td id=\"T_32669_row15_col0\" class=\"data row15 col0\" >19</td>\n      <td id=\"T_32669_row15_col1\" class=\"data row15 col1\" >0.483586</td>\n      <td id=\"T_32669_row15_col2\" class=\"data row15 col2\" >0.632899</td>\n      <td id=\"T_32669_row15_col3\" class=\"data row15 col3\" >0.501543</td>\n      <td id=\"T_32669_row15_col4\" class=\"data row15 col4\" >0.167002</td>\n    </tr>\n    <tr>\n      <th id=\"T_32669_level0_row16\" class=\"row_heading level0 row16\" >8</th>\n      <td id=\"T_32669_row16_col0\" class=\"data row16 col0\" >9</td>\n      <td id=\"T_32669_row16_col1\" class=\"data row16 col1\" >0.443555</td>\n      <td id=\"T_32669_row16_col2\" class=\"data row16 col2\" >0.853776</td>\n      <td id=\"T_32669_row16_col3\" class=\"data row16 col3\" >0.066204</td>\n      <td id=\"T_32669_row16_col4\" class=\"data row16 col4\" >0.000463</td>\n    </tr>\n    <tr>\n      <th id=\"T_32669_level0_row17\" class=\"row_heading level0 row17\" >15</th>\n      <td id=\"T_32669_row17_col0\" class=\"data row17 col0\" >11</td>\n      <td id=\"T_32669_row17_col1\" class=\"data row17 col1\" >0.439759</td>\n      <td id=\"T_32669_row17_col2\" class=\"data row17 col2\" >0.567646</td>\n      <td id=\"T_32669_row17_col3\" class=\"data row17 col3\" >0.383377</td>\n      <td id=\"T_32669_row17_col4\" class=\"data row17 col4\" >0.240366</td>\n    </tr>\n    <tr>\n      <th id=\"T_32669_level0_row18\" class=\"row_heading level0 row18\" >9</th>\n      <td id=\"T_32669_row18_col0\" class=\"data row18 col0\" >2</td>\n      <td id=\"T_32669_row18_col1\" class=\"data row18 col1\" >0.410583</td>\n      <td id=\"T_32669_row18_col2\" class=\"data row18 col2\" >0.444888</td>\n      <td id=\"T_32669_row18_col3\" class=\"data row18 col3\" >0.295825</td>\n      <td id=\"T_32669_row18_col4\" class=\"data row18 col4\" >0.456732</td>\n    </tr>\n    <tr>\n      <th id=\"T_32669_level0_row19\" class=\"row_heading level0 row19\" >13</th>\n      <td id=\"T_32669_row19_col0\" class=\"data row19 col0\" >1</td>\n      <td id=\"T_32669_row19_col1\" class=\"data row19 col1\" >0.398368</td>\n      <td id=\"T_32669_row19_col2\" class=\"data row19 col2\" >0.508505</td>\n      <td id=\"T_32669_row19_col3\" class=\"data row19 col3\" >0.387346</td>\n      <td id=\"T_32669_row19_col4\" class=\"data row19 col4\" >0.189116</td>\n    </tr>\n    <tr>\n      <th id=\"T_32669_level0_row20\" class=\"row_heading level0 row20\" >14</th>\n      <td id=\"T_32669_row20_col0\" class=\"data row20 col0\" >12</td>\n      <td id=\"T_32669_row20_col1\" class=\"data row20 col1\" >0.376506</td>\n      <td id=\"T_32669_row20_col2\" class=\"data row20 col2\" >0.717004</td>\n      <td id=\"T_32669_row20_col3\" class=\"data row20 col3\" >0.072016</td>\n      <td id=\"T_32669_row20_col4\" class=\"data row20 col4\" >0.000000</td>\n    </tr>\n    <tr>\n      <th id=\"T_32669_level0_row21\" class=\"row_heading level0 row21\" >11</th>\n      <td id=\"T_32669_row21_col0\" class=\"data row21 col0\" >17</td>\n      <td id=\"T_32669_row21_col1\" class=\"data row21 col1\" >0.213173</td>\n      <td id=\"T_32669_row21_col2\" class=\"data row21 col2\" >0.416492</td>\n      <td id=\"T_32669_row21_col3\" class=\"data row21 col3\" >0.006614</td>\n      <td id=\"T_32669_row21_col4\" class=\"data row21 col4\" >0.013096</td>\n    </tr>\n  </tbody>\n</table>\n"
          },
          "metadata": {}
        }
      ],
      "execution_count": 248,
      "metadata": {
        "gather": {
          "logged": 1752450717708
        }
      }
    },
    {
      "cell_type": "code",
      "source": [
        "#RAGAs metrics grouped by model configurations\n",
        "final_df_grouped_model = final_df_grouped_iteration.groupby([\"deployment_name\",\"idx_name\", \"method_name\"])[['faithfulness', 'context_recall', 'context_precision', 'time']].mean().reset_index()\n",
        "df = final_df_grouped_model\n",
        "\n",
        "#Define mappings for column renaming\n",
        "embedding_model_map = {\n",
        "    \"custom-vectorizer-384\": \"multilingual-e5-small\",\n",
        "    \"openai-vectorizer-text-embedding-3-large\": \"text-embedding-3-large\",\n",
        "    \"openai-vectorizer-text-embedding-ada-002\": \"text-embedding-ada-002\"\n",
        "}\n",
        "\n",
        "search_algorithm_map = {\n",
        "    \"exhaustiveknn\": \"KNN\",\n",
        "    \"hnsw\": \"HNSW\"\n",
        "}\n",
        "\n",
        "#Create new columns for clarity of the techniques\n",
        "df['embedding_model'] = df['idx_name'].apply(\n",
        "    lambda x: next((val for key, val in embedding_model_map.items() if key in x), None)\n",
        ")\n",
        "df['search_algorithm'] = df['idx_name'].apply(\n",
        "    lambda x: next((val for key, val in search_algorithm_map.items() if key in x), None)\n",
        ")\n",
        "df['agentic_retrieval'] = df['method_name'].apply(\n",
        "    lambda x: \"Agentic\" in x\n",
        ")\n",
        "df['reranking'] = df['method_name'].apply(\n",
        "    lambda x: \"with reranking\" in x\n",
        ")\n",
        "\n",
        "final_df_grouped_model = df[['deployment_name',\n",
        "                           'embedding_model',\n",
        "                           'search_algorithm',\n",
        "                           'agentic_retrieval',\n",
        "                           'reranking',\n",
        "                           'faithfulness',\n",
        "                           'context_recall',\n",
        "                           'context_precision',\n",
        "                           'time']]\n",
        "\n",
        "#Add aggretated score, giving faithfulness a weight of 2\n",
        "final_df_grouped_model['aggregated_score'] = (2 * final_df_grouped_model['faithfulness'] + final_df_grouped_model['context_recall'] + final_df_grouped_model['context_precision'])/4\n",
        "\n",
        "#Reorder\n",
        "final_df_grouped_model = final_df_grouped_model[['deployment_name',\n",
        "                           'embedding_model',\n",
        "                           'search_algorithm',\n",
        "                           'agentic_retrieval',\n",
        "                           'reranking',\n",
        "                           'aggregated_score',\n",
        "                           'faithfulness',\n",
        "                           'context_recall',\n",
        "                           'context_precision',\n",
        "                           'time']]\n",
        "\n",
        "#Sort by highest aggregated score\n",
        "final_df_grouped_model = final_df_grouped_model.sort_values(by='aggregated_score', ascending=False)\n",
        "\n",
        "final_df_grouped_model_styled = (\n",
        "    final_df_grouped_model.style\n",
        "    .background_gradient(cmap=\"crest_r\", subset= ['faithfulness', 'context_recall', 'context_precision', 'aggregated_score'])\n",
        "    .background_gradient(cmap=\"crest\", subset= [\"time\"])\n",
        ")\n"
      ],
      "outputs": [
        {
          "output_type": "stream",
          "name": "stderr",
          "text": "/tmp/ipykernel_4051/879375466.py:40: SettingWithCopyWarning: \nA value is trying to be set on a copy of a slice from a DataFrame.\nTry using .loc[row_indexer,col_indexer] = value instead\n\nSee the caveats in the documentation: https://pandas.pydata.org/pandas-docs/stable/user_guide/indexing.html#returning-a-view-versus-a-copy\n  final_df_grouped_model['aggregated_score'] = (2 * final_df_grouped_model['faithfulness'] + final_df_grouped_model['context_recall'] + final_df_grouped_model['context_precision'])/4\n"
        }
      ],
      "execution_count": 257,
      "metadata": {
        "gather": {
          "logged": 1752451067109
        }
      }
    }
  ],
  "metadata": {
    "kernelspec": {
      "name": "python38-azureml-pt-tf",
      "language": "python",
      "display_name": "Python 3.10 - Pytorch and Tensorflow"
    },
    "language_info": {
      "name": "python",
      "version": "3.10.16",
      "mimetype": "text/x-python",
      "codemirror_mode": {
        "name": "ipython",
        "version": 3
      },
      "pygments_lexer": "ipython3",
      "nbconvert_exporter": "python",
      "file_extension": ".py"
    },
    "microsoft": {
      "ms_spell_check": {
        "ms_spell_check_language": "en"
      },
      "host": {
        "AzureML": {
          "notebookHasBeenCompleted": true
        }
      }
    },
    "nteract": {
      "version": "nteract-front-end@1.0.0"
    },
    "kernel_info": {
      "name": "python38-azureml-pt-tf"
    }
  },
  "nbformat": 4,
  "nbformat_minor": 2
}